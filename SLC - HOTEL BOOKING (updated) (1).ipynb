{
 "cells": [
  {
   "cell_type": "markdown",
   "id": "131ecfbd",
   "metadata": {},
   "source": [
    "# IMPORT LIBS"
   ]
  },
  {
   "cell_type": "code",
   "execution_count": 1,
   "id": "a7db425d",
   "metadata": {},
   "outputs": [],
   "source": [
    "import numpy as np\n",
    "import pandas as pd\n",
    "\n",
    "import matplotlib.pyplot as plt\n",
    "import seaborn as sns\n",
    "\n",
    "from warnings import filterwarnings\n",
    "filterwarnings('ignore')"
   ]
  },
  {
   "cell_type": "code",
   "execution_count": 2,
   "id": "9ed135aa",
   "metadata": {},
   "outputs": [
    {
     "data": {
      "text/html": [
       "<div>\n",
       "<style scoped>\n",
       "    .dataframe tbody tr th:only-of-type {\n",
       "        vertical-align: middle;\n",
       "    }\n",
       "\n",
       "    .dataframe tbody tr th {\n",
       "        vertical-align: top;\n",
       "    }\n",
       "\n",
       "    .dataframe thead th {\n",
       "        text-align: right;\n",
       "    }\n",
       "</style>\n",
       "<table border=\"1\" class=\"dataframe\">\n",
       "  <thead>\n",
       "    <tr style=\"text-align: right;\">\n",
       "      <th></th>\n",
       "      <th>booking_id</th>\n",
       "      <th>lead_time</th>\n",
       "      <th>market_segment_type</th>\n",
       "      <th>no_of_special_requests</th>\n",
       "      <th>avg_price_per_room</th>\n",
       "      <th>no_of_adults</th>\n",
       "      <th>no_of_weekend_nights</th>\n",
       "      <th>arrival_date</th>\n",
       "      <th>required_car_parking_space</th>\n",
       "      <th>no_of_week_nights</th>\n",
       "      <th>booking_status</th>\n",
       "      <th>rebooked</th>\n",
       "    </tr>\n",
       "  </thead>\n",
       "  <tbody>\n",
       "    <tr>\n",
       "      <th>0</th>\n",
       "      <td>INNHG_101034</td>\n",
       "      <td>0</td>\n",
       "      <td>Online</td>\n",
       "      <td>0</td>\n",
       "      <td>85.03</td>\n",
       "      <td>1</td>\n",
       "      <td>1</td>\n",
       "      <td>2021-01-01</td>\n",
       "      <td>0</td>\n",
       "      <td>0</td>\n",
       "      <td>Not Canceled</td>\n",
       "      <td>NaN</td>\n",
       "    </tr>\n",
       "    <tr>\n",
       "      <th>1</th>\n",
       "      <td>INNHG_101035</td>\n",
       "      <td>34</td>\n",
       "      <td>Online</td>\n",
       "      <td>2</td>\n",
       "      <td>125.10</td>\n",
       "      <td>2</td>\n",
       "      <td>2</td>\n",
       "      <td>2021-01-01</td>\n",
       "      <td>0</td>\n",
       "      <td>0</td>\n",
       "      <td>Not Canceled</td>\n",
       "      <td>NaN</td>\n",
       "    </tr>\n",
       "    <tr>\n",
       "      <th>2</th>\n",
       "      <td>INNHG_101036</td>\n",
       "      <td>24</td>\n",
       "      <td>Online</td>\n",
       "      <td>1</td>\n",
       "      <td>71.69</td>\n",
       "      <td>2</td>\n",
       "      <td>2</td>\n",
       "      <td>2021-01-01</td>\n",
       "      <td>0</td>\n",
       "      <td>0</td>\n",
       "      <td>Not Canceled</td>\n",
       "      <td>NaN</td>\n",
       "    </tr>\n",
       "    <tr>\n",
       "      <th>3</th>\n",
       "      <td>INNHG_101037</td>\n",
       "      <td>23</td>\n",
       "      <td>Online</td>\n",
       "      <td>0</td>\n",
       "      <td>84.70</td>\n",
       "      <td>1</td>\n",
       "      <td>2</td>\n",
       "      <td>2021-01-01</td>\n",
       "      <td>0</td>\n",
       "      <td>0</td>\n",
       "      <td>Not Canceled</td>\n",
       "      <td>NaN</td>\n",
       "    </tr>\n",
       "    <tr>\n",
       "      <th>4</th>\n",
       "      <td>INNHG_101038</td>\n",
       "      <td>46</td>\n",
       "      <td>Online</td>\n",
       "      <td>1</td>\n",
       "      <td>149.40</td>\n",
       "      <td>2</td>\n",
       "      <td>2</td>\n",
       "      <td>2021-01-01</td>\n",
       "      <td>0</td>\n",
       "      <td>3</td>\n",
       "      <td>Canceled</td>\n",
       "      <td>No</td>\n",
       "    </tr>\n",
       "  </tbody>\n",
       "</table>\n",
       "</div>"
      ],
      "text/plain": [
       "     booking_id  lead_time market_segment_type  no_of_special_requests  \\\n",
       "0  INNHG_101034          0              Online                       0   \n",
       "1  INNHG_101035         34              Online                       2   \n",
       "2  INNHG_101036         24              Online                       1   \n",
       "3  INNHG_101037         23              Online                       0   \n",
       "4  INNHG_101038         46              Online                       1   \n",
       "\n",
       "   avg_price_per_room  no_of_adults  no_of_weekend_nights arrival_date  \\\n",
       "0               85.03             1                     1   2021-01-01   \n",
       "1              125.10             2                     2   2021-01-01   \n",
       "2               71.69             2                     2   2021-01-01   \n",
       "3               84.70             1                     2   2021-01-01   \n",
       "4              149.40             2                     2   2021-01-01   \n",
       "\n",
       "   required_car_parking_space  no_of_week_nights booking_status rebooked  \n",
       "0                           0                  0   Not Canceled      NaN  \n",
       "1                           0                  0   Not Canceled      NaN  \n",
       "2                           0                  0   Not Canceled      NaN  \n",
       "3                           0                  0   Not Canceled      NaN  \n",
       "4                           0                  3       Canceled       No  "
      ]
     },
     "execution_count": 2,
     "metadata": {},
     "output_type": "execute_result"
    }
   ],
   "source": [
    "data = pd.read_csv('INNHotelsGroup_pastdata.csv')\n",
    "data.head()"
   ]
  },
  {
   "cell_type": "raw",
   "id": "e1391351",
   "metadata": {},
   "source": [
    "| `booking_id`                 | Unique identifier for each booking. Usually alphanumeric or numeric.                                                 |\n",
    "| `lead_time`                  | Number of days between booking date and arrival date. High values may indicate early planning.                       |\n",
    "| `market_segment_type`        | Type of market segment (e.g., Online, Corporate, Offline, Aviation, etc.). Helps identify the source of the booking. |\n",
    "| `no_of_special_requests`     | Number of special requests (e.g., late checkout, high floor, etc.) made by the customer.                             |\n",
    "| `avg_price_per_room`         | Average daily price per room for that booking. Reflects hotel pricing strategy.                                      |\n",
    "| `no_of_adults`               | Number of adults in the booking.                                                                                     |\n",
    "| `no_of_weekend_nights`       | Number of weekend nights (typically Friday and Saturday) included in the stay.                                       |\n",
    "| `arrival_date`               | Date when the guest is scheduled to arrive. May be in `dd/mm/yyyy` or `yyyy-mm-dd` format.                           |\n",
    "| `required_car_parking_space` | Whether a car parking space was requested (usually 0 = No, 1 = Yes).                                                 |\n",
    "| `no_of_week_nights`          | Number of weekdays (Sunday to Thursday) the guest is staying.                                                        |\n",
    "| `booking_status`             | Status of the booking — for example, `Canceled` or `Not_Canceled`.                                                   |\n",
    "| `rebooked`                   | Indicates whether the guest rebooked after a cancellation (1 = Yes, 0 = No). Useful for customer loyalty analysis.   |"
   ]
  },
  {
   "cell_type": "markdown",
   "id": "2fc58433",
   "metadata": {},
   "source": [
    "# Basic analysis"
   ]
  },
  {
   "cell_type": "code",
   "execution_count": 3,
   "id": "9e864dd1",
   "metadata": {},
   "outputs": [
    {
     "name": "stdout",
     "output_type": "stream",
     "text": [
      "<class 'pandas.core.frame.DataFrame'>\n",
      "RangeIndex: 27093 entries, 0 to 27092\n",
      "Data columns (total 12 columns):\n",
      " #   Column                      Non-Null Count  Dtype  \n",
      "---  ------                      --------------  -----  \n",
      " 0   booking_id                  27093 non-null  object \n",
      " 1   lead_time                   27093 non-null  int64  \n",
      " 2   market_segment_type         27093 non-null  object \n",
      " 3   no_of_special_requests      27093 non-null  int64  \n",
      " 4   avg_price_per_room          27093 non-null  float64\n",
      " 5   no_of_adults                27093 non-null  int64  \n",
      " 6   no_of_weekend_nights        27093 non-null  int64  \n",
      " 7   arrival_date                27093 non-null  object \n",
      " 8   required_car_parking_space  27093 non-null  int64  \n",
      " 9   no_of_week_nights           27093 non-null  int64  \n",
      " 10  booking_status              27093 non-null  object \n",
      " 11  rebooked                    8857 non-null   object \n",
      "dtypes: float64(1), int64(6), object(5)\n",
      "memory usage: 2.5+ MB\n"
     ]
    }
   ],
   "source": [
    "df = data.copy()\n",
    "df.info()"
   ]
  },
  {
   "cell_type": "code",
   "execution_count": 4,
   "id": "b6c9fa52",
   "metadata": {},
   "outputs": [
    {
     "data": {
      "text/plain": [
       "(27093, 12)"
      ]
     },
     "execution_count": 4,
     "metadata": {},
     "output_type": "execute_result"
    }
   ],
   "source": [
    "df.shape"
   ]
  },
  {
   "cell_type": "code",
   "execution_count": 5,
   "id": "21b244ea",
   "metadata": {},
   "outputs": [
    {
     "data": {
      "text/plain": [
       "325116"
      ]
     },
     "execution_count": 5,
     "metadata": {},
     "output_type": "execute_result"
    }
   ],
   "source": [
    "df.size"
   ]
  },
  {
   "cell_type": "code",
   "execution_count": 6,
   "id": "2571ec63",
   "metadata": {},
   "outputs": [],
   "source": [
    "# treat anomalies"
   ]
  },
  {
   "cell_type": "code",
   "execution_count": 7,
   "id": "904614c5",
   "metadata": {},
   "outputs": [],
   "source": [
    "# dropping booking id\n",
    "\n",
    "df.drop('booking_id',axis = 1,inplace=True)"
   ]
  },
  {
   "cell_type": "code",
   "execution_count": 8,
   "id": "7584c901",
   "metadata": {},
   "outputs": [
    {
     "name": "stdout",
     "output_type": "stream",
     "text": [
      "lead_time\n",
      "[  0  34  24  23  46  10  25  21   1 120  48  62   4  20  36  52 208  19\n",
      "  13  55   3  30  94  27 196  41  12  70  14 129  51  53  78  31 175  18\n",
      "  61   2  16  15 231  28 138  56   7  79   9  17 122  44 118  22   8 113\n",
      "  45  38  11 307  32  71  47  69 111 145 205   5 176 132 135 149 144  88\n",
      " 141 162   6 142 156 185  89  85 139 104 166 125 189  83 169 151  87  77\n",
      " 108 160  90 152 153 245  72 159  73 165 133 157  95 164 126 102 106  35\n",
      "  39 110 140  58 128 146  80 117 150 193  75 173 155  65 109  97 115  42\n",
      " 181 215  98 103 148 143 158 167 187 127  76 195  82 136 131  91 194  93\n",
      "  86  60 269  54  50 184 154  49 171 107  74 119  33 174 134  84  37 114\n",
      " 112 180 101 240  92 163  43  64 161 147  26  99  40 200 105  66 172 170\n",
      " 179 121 177 186 203  63 336  57 296 271 294 292 295 183 238 226 249 124\n",
      " 285 201 100 213 202 199 178 278 192 188 206 191  59 130  81 210 261 212\n",
      "  68 168 123 232 276 198 332 237 182 260 251 236 229 207 209 116 216 214\n",
      " 217 190 274 218 197 220  96 222 233 247 263 225 204 219 223  29 221 304\n",
      " 137 320 224 211 259 227 279 230 250 244 277  67 234 255 433 246 243 346\n",
      " 262 235 359 377 256 330 317 258 286 254 318 302 252 287 267 280 253 303\n",
      " 291 242 268 275 239 264 315 273 270 248 349 228 386 297 283 308 418 282\n",
      " 241 281 301 324 326 319 266 290 284 333 289 372 257 327 288 443 298 309\n",
      " 323 322 265]\n",
      "\n",
      "market_segment_type\n",
      "['Online' 'Offline']\n",
      "\n",
      "no_of_special_requests\n",
      "[0 2 1 3 4 5]\n",
      "\n",
      "avg_price_per_room\n",
      "[ 85.03 125.1   71.69 ... 103.78 129.55  97.55]\n",
      "\n",
      "no_of_adults\n",
      "[1 2 3 4 0]\n",
      "\n",
      "no_of_weekend_nights\n",
      "[1 2 0 4 3 5 6]\n",
      "\n",
      "arrival_date\n",
      "['2021-01-01' '2021-01-05' '2021-01-06' '2021-01-08' '2021-01-10'\n",
      " '2021-01-11' '2021-01-13' '2021-01-14' '2021-01-15' '2021-01-19'\n",
      " '2021-01-21' '2021-01-23' '2021-01-25' '2021-01-27' '2021-02-01'\n",
      " '2021-02-02' '2021-02-05' '2021-02-07' '2021-02-08' '2021-02-11'\n",
      " '2021-02-13' '2021-02-15' '2021-02-17' '2021-02-20' '2021-02-22'\n",
      " '2021-02-23' '2021-02-24' '2021-02-25' '2021-03-03' '2021-03-05'\n",
      " '2021-03-08' '2021-03-09' '2021-03-12' '2021-03-13' '2021-03-14'\n",
      " '2021-03-15' '2021-03-16' '2021-03-19' '2021-03-24' '2021-03-28'\n",
      " '2021-03-30' '2021-04-02' '2021-04-04' '2021-04-07' '2021-04-08'\n",
      " '2021-04-10' '2021-04-12' '2021-04-16' '2021-04-18' '2021-04-23'\n",
      " '2021-04-25' '2021-04-26' '2021-04-28' '2021-04-29' '2021-04-30'\n",
      " '2021-05-03' '2021-05-05' '2021-05-12' '2021-05-17' '2021-05-18'\n",
      " '2021-05-21' '2021-05-23' '2021-05-24' '2021-05-26' '2021-05-29'\n",
      " '2021-05-30' '2021-06-02' '2021-06-05' '2021-06-06' '2021-06-08'\n",
      " '2021-06-12' '2021-06-16' '2021-06-21' '2021-06-28' '2021-07-01'\n",
      " '2021-07-02' '2021-07-03' '2021-07-04' '2021-07-05' '2021-07-06'\n",
      " '2021-07-07' '2021-07-08' '2021-07-09' '2021-07-10' '2021-07-11'\n",
      " '2021-07-12' '2021-07-13' '2021-07-14' '2021-07-15' '2021-07-16'\n",
      " '2021-07-17' '2021-07-18' '2021-07-19' '2021-07-20' '2021-07-21'\n",
      " '2021-07-22' '2021-07-23' '2021-07-24' '2021-07-25' '2021-07-26'\n",
      " '2021-07-27' '2021-07-28' '2021-07-29' '2021-07-30' '2021-07-31'\n",
      " '2021-08-01' '2021-08-02' '2021-08-03' '2021-08-04' '2021-08-05'\n",
      " '2021-08-06' '2021-08-07' '2021-08-08' '2021-08-09' '2021-08-10'\n",
      " '2021-08-11' '2021-08-12' '2021-08-13' '2021-08-14' '2021-08-15'\n",
      " '2021-08-16' '2021-08-17' '2021-08-18' '2021-08-19' '2021-08-20'\n",
      " '2021-08-21' '2021-08-22' '2021-08-23' '2021-08-24' '2021-08-25'\n",
      " '2021-08-26' '2021-08-27' '2021-08-28' '2021-08-29' '2021-08-30'\n",
      " '2021-08-31' '2021-09-01' '2021-09-02' '2021-09-03' '2021-09-04'\n",
      " '2021-09-05' '2021-09-06' '2021-09-07' '2021-09-08' '2021-09-09'\n",
      " '2021-09-10' '2021-09-11' '2021-09-12' '2021-09-13' '2021-09-14'\n",
      " '2021-09-15' '2021-09-16' '2021-09-17' '2021-09-18' '2021-09-19'\n",
      " '2021-09-20' '2021-09-21' '2021-09-22' '2021-09-23' '2021-09-24'\n",
      " '2021-09-25' '2021-09-26' '2021-09-27' '2021-09-28' '2021-09-29'\n",
      " '2021-09-30' '2021-10-01' '2021-10-02' '2021-10-03' '2021-10-04'\n",
      " '2021-10-05' '2021-10-06' '2021-10-07' '2021-10-08' '2021-10-09'\n",
      " '2021-10-10' '2021-10-11' '2021-10-12' '2021-10-13' '2021-10-14'\n",
      " '2021-10-15' '2021-10-16' '2021-10-17' '2021-10-18' '2021-10-19'\n",
      " '2021-10-20' '2021-10-21' '2021-10-22' '2021-10-23' '2021-10-24'\n",
      " '2021-10-25' '2021-10-26' '2021-10-27' '2021-10-28' '2021-10-29'\n",
      " '2021-10-30' '2021-10-31' '2021-11-01' '2021-11-02' '2021-11-03'\n",
      " '2021-11-04' '2021-11-05' '2021-11-06' '2021-11-07' '2021-11-08'\n",
      " '2021-11-09' '2021-11-10' '2021-11-11' '2021-11-12' '2021-11-13'\n",
      " '2021-11-14' '2021-11-15' '2021-11-16' '2021-11-17' '2021-11-18'\n",
      " '2021-11-19' '2021-11-20' '2021-11-21' '2021-11-22' '2021-11-23'\n",
      " '2021-11-24' '2021-11-25' '2021-11-26' '2021-11-27' '2021-11-28'\n",
      " '2021-11-29' '2021-11-30' '2021-12-01' '2021-12-02' '2021-12-03'\n",
      " '2021-12-04' '2021-12-05' '2021-12-06' '2021-12-07' '2021-12-08'\n",
      " '2021-12-09' '2021-12-10' '2021-12-11' '2021-12-12' '2021-12-13'\n",
      " '2021-12-14' '2021-12-15' '2021-12-16' '2021-12-17' '2021-12-18'\n",
      " '2021-12-19' '2021-12-20' '2021-12-21' '2021-12-22' '2021-12-23'\n",
      " '2021-12-24' '2021-12-25' '2021-12-26' '2021-12-27' '2021-12-28'\n",
      " '2021-12-29' '2021-12-30' '2021-12-31' '2022-01-01' '2022-01-02'\n",
      " '2022-01-03' '2022-01-04' '2022-01-05' '2022-01-06' '2022-01-07'\n",
      " '2022-01-08' '2022-01-09' '2022-01-10' '2022-01-11' '2022-01-12'\n",
      " '2022-01-13' '2022-01-14' '2022-01-15' '2022-01-16' '2022-01-17'\n",
      " '2022-01-18' '2022-01-19' '2022-01-20' '2022-01-21' '2022-01-22'\n",
      " '2022-01-23' '2022-01-24' '2022-01-25' '2022-01-26' '2022-01-27'\n",
      " '2022-01-28' '2022-01-29' '2022-01-30' '2022-01-31' '2022-02-01'\n",
      " '2022-02-02' '2022-02-03' '2022-02-04' '2022-02-05' '2022-02-06'\n",
      " '2022-02-07' '2022-02-08' '2022-02-09' '2022-02-10' '2022-02-11'\n",
      " '2022-02-12' '2022-02-13' '2022-02-14' '2022-02-15' '2022-02-16'\n",
      " '2022-02-17' '2022-02-18' '2022-02-19' '2022-02-20' '2022-02-21'\n",
      " '2022-02-22' '2022-02-23' '2022-02-24' '2022-02-25' '2022-02-26'\n",
      " '2022-02-27' '2022-02-28' '2022-03-01' '2022-03-02' '2022-03-03'\n",
      " '2022-03-04' '2022-03-05' '2022-03-06' '2022-03-07' '2022-03-08'\n",
      " '2022-03-09' '2022-03-10' '2022-03-11' '2022-03-12' '2022-03-13'\n",
      " '2022-03-14' '2022-03-15' '2022-03-16' '2022-03-17' '2022-03-18'\n",
      " '2022-03-19' '2022-03-20' '2022-03-21' '2022-03-22' '2022-03-23'\n",
      " '2022-03-24' '2022-03-25' '2022-03-26' '2022-03-27' '2022-03-28'\n",
      " '2022-03-29' '2022-03-30' '2022-03-31' '2022-04-01' '2022-04-02'\n",
      " '2022-04-03' '2022-04-04' '2022-04-05' '2022-04-06' '2022-04-07'\n",
      " '2022-04-08' '2022-04-09' '2022-04-10' '2022-04-11' '2022-04-12'\n",
      " '2022-04-13' '2022-04-14' '2022-04-15' '2022-04-16' '2022-04-17'\n",
      " '2022-04-18' '2022-04-19' '2022-04-20' '2022-04-21' '2022-04-22'\n",
      " '2022-04-23' '2022-04-24' '2022-04-25' '2022-04-26' '2022-04-27'\n",
      " '2022-04-28' '2022-04-29' '2022-04-30' '2022-05-01' '2022-05-02'\n",
      " '2022-05-03' '2022-05-04' '2022-05-05' '2022-05-06' '2022-05-07'\n",
      " '2022-05-08' '2022-05-09' '2022-05-10' '2022-05-11' '2022-05-12'\n",
      " '2022-05-13' '2022-05-14' '2022-05-15' '2022-05-16' '2022-05-17'\n",
      " '2022-05-18' '2022-05-19' '2022-05-20' '2022-05-21' '2022-05-22'\n",
      " '2022-05-23' '2022-05-24' '2022-05-25' '2022-05-26' '2022-05-27'\n",
      " '2022-05-28' '2022-05-29' '2022-05-30' '2022-05-31' '2022-06-01'\n",
      " '2022-06-02' '2022-06-03' '2022-06-04' '2022-06-05' '2022-06-06'\n",
      " '2022-06-07' '2022-06-08' '2022-06-09' '2022-06-10' '2022-06-11'\n",
      " '2022-06-12' '2022-06-13' '2022-06-14' '2022-06-15' '2022-06-16'\n",
      " '2022-06-17' '2022-06-18' '2022-06-19' '2022-06-20' '2022-06-21'\n",
      " '2022-06-22' '2022-06-23' '2022-06-24' '2022-06-25' '2022-06-26'\n",
      " '2022-06-27' '2022-06-28' '2022-06-29' '2022-06-30']\n",
      "\n",
      "required_car_parking_space\n",
      "[0 1]\n",
      "\n",
      "no_of_week_nights\n",
      "[ 0  3  1  5  4  2  6  8  7  9 15 10 13 12 11 17 14 16]\n",
      "\n",
      "booking_status\n",
      "['Not Canceled' 'Canceled']\n",
      "\n",
      "rebooked\n",
      "[nan 'No' 'Yes']\n",
      "\n"
     ]
    }
   ],
   "source": [
    "for i in df.columns:\n",
    "    print(i)\n",
    "    print(df[i].unique())\n",
    "    print()"
   ]
  },
  {
   "cell_type": "code",
   "execution_count": 9,
   "id": "9ae64eb6",
   "metadata": {},
   "outputs": [],
   "source": [
    "# converting arrival date into date time and extract year and month out of it "
   ]
  },
  {
   "cell_type": "code",
   "execution_count": 10,
   "id": "d7bc46e5",
   "metadata": {},
   "outputs": [
    {
     "data": {
      "text/plain": [
       "0   2021-01-01\n",
       "1   2021-01-01\n",
       "2   2021-01-01\n",
       "3   2021-01-01\n",
       "4   2021-01-01\n",
       "Name: arrival_date, dtype: datetime64[ns]"
      ]
     },
     "execution_count": 10,
     "metadata": {},
     "output_type": "execute_result"
    }
   ],
   "source": [
    "df['arrival_date'] = pd.to_datetime(df['arrival_date'])\n",
    "df['arrival_date'].head()"
   ]
  },
  {
   "cell_type": "code",
   "execution_count": 11,
   "id": "54d7516e",
   "metadata": {},
   "outputs": [],
   "source": [
    "import datetime as dt"
   ]
  },
  {
   "cell_type": "code",
   "execution_count": 12,
   "id": "0af6280c",
   "metadata": {},
   "outputs": [],
   "source": [
    "# feature engineering"
   ]
  },
  {
   "cell_type": "code",
   "execution_count": 13,
   "id": "5074a723",
   "metadata": {},
   "outputs": [],
   "source": [
    "df['arrival_year'] = df['arrival_date'].dt.year\n",
    "df['arrival_month'] = df['arrival_date'].dt.month"
   ]
  },
  {
   "cell_type": "code",
   "execution_count": 14,
   "id": "c676648e",
   "metadata": {},
   "outputs": [],
   "source": [
    "# converting required_car_parking_space into object (1 = yes, 0 = no)"
   ]
  },
  {
   "cell_type": "code",
   "execution_count": 15,
   "id": "1a7a0b47",
   "metadata": {},
   "outputs": [],
   "source": [
    "df['required_car_parking_space'] = df['required_car_parking_space'].astype(object)"
   ]
  },
  {
   "cell_type": "code",
   "execution_count": 16,
   "id": "22a28380",
   "metadata": {},
   "outputs": [
    {
     "name": "stdout",
     "output_type": "stream",
     "text": [
      "<class 'pandas.core.frame.DataFrame'>\n",
      "RangeIndex: 27093 entries, 0 to 27092\n",
      "Data columns (total 13 columns):\n",
      " #   Column                      Non-Null Count  Dtype         \n",
      "---  ------                      --------------  -----         \n",
      " 0   lead_time                   27093 non-null  int64         \n",
      " 1   market_segment_type         27093 non-null  object        \n",
      " 2   no_of_special_requests      27093 non-null  int64         \n",
      " 3   avg_price_per_room          27093 non-null  float64       \n",
      " 4   no_of_adults                27093 non-null  int64         \n",
      " 5   no_of_weekend_nights        27093 non-null  int64         \n",
      " 6   arrival_date                27093 non-null  datetime64[ns]\n",
      " 7   required_car_parking_space  27093 non-null  object        \n",
      " 8   no_of_week_nights           27093 non-null  int64         \n",
      " 9   booking_status              27093 non-null  object        \n",
      " 10  rebooked                    8857 non-null   object        \n",
      " 11  arrival_year                27093 non-null  int64         \n",
      " 12  arrival_month               27093 non-null  int64         \n",
      "dtypes: datetime64[ns](1), float64(1), int64(7), object(4)\n",
      "memory usage: 2.7+ MB\n"
     ]
    }
   ],
   "source": [
    "df.info()"
   ]
  },
  {
   "cell_type": "code",
   "execution_count": 17,
   "id": "4e2b2771",
   "metadata": {},
   "outputs": [],
   "source": [
    "# Seperating Num and Cat columns "
   ]
  },
  {
   "cell_type": "code",
   "execution_count": 18,
   "id": "c83cc6f2",
   "metadata": {},
   "outputs": [],
   "source": [
    "num = df.select_dtypes(include = np.number).columns.to_list()\n",
    "cat = df.select_dtypes(include = object).columns.to_list()"
   ]
  },
  {
   "cell_type": "code",
   "execution_count": 19,
   "id": "30c7006a",
   "metadata": {},
   "outputs": [
    {
     "data": {
      "text/plain": [
       "['lead_time',\n",
       " 'no_of_special_requests',\n",
       " 'avg_price_per_room',\n",
       " 'no_of_adults',\n",
       " 'no_of_weekend_nights',\n",
       " 'no_of_week_nights',\n",
       " 'arrival_year',\n",
       " 'arrival_month']"
      ]
     },
     "execution_count": 19,
     "metadata": {},
     "output_type": "execute_result"
    }
   ],
   "source": [
    "num"
   ]
  },
  {
   "cell_type": "code",
   "execution_count": 20,
   "id": "c525d10f",
   "metadata": {},
   "outputs": [],
   "source": [
    "# STATS SUMMARY"
   ]
  },
  {
   "cell_type": "code",
   "execution_count": 21,
   "id": "a5f495de",
   "metadata": {},
   "outputs": [
    {
     "data": {
      "text/html": [
       "<div>\n",
       "<style scoped>\n",
       "    .dataframe tbody tr th:only-of-type {\n",
       "        vertical-align: middle;\n",
       "    }\n",
       "\n",
       "    .dataframe tbody tr th {\n",
       "        vertical-align: top;\n",
       "    }\n",
       "\n",
       "    .dataframe thead th {\n",
       "        text-align: right;\n",
       "    }\n",
       "</style>\n",
       "<table border=\"1\" class=\"dataframe\">\n",
       "  <thead>\n",
       "    <tr style=\"text-align: right;\">\n",
       "      <th></th>\n",
       "      <th>lead_time</th>\n",
       "      <th>no_of_special_requests</th>\n",
       "      <th>avg_price_per_room</th>\n",
       "      <th>no_of_adults</th>\n",
       "      <th>no_of_weekend_nights</th>\n",
       "      <th>no_of_week_nights</th>\n",
       "      <th>arrival_year</th>\n",
       "      <th>arrival_month</th>\n",
       "    </tr>\n",
       "  </thead>\n",
       "  <tbody>\n",
       "    <tr>\n",
       "      <th>count</th>\n",
       "      <td>27093.000000</td>\n",
       "      <td>27093.000000</td>\n",
       "      <td>27093.000000</td>\n",
       "      <td>27093.000000</td>\n",
       "      <td>27093.000000</td>\n",
       "      <td>27093.000000</td>\n",
       "      <td>27093.000000</td>\n",
       "      <td>27093.000000</td>\n",
       "    </tr>\n",
       "    <tr>\n",
       "      <th>mean</th>\n",
       "      <td>81.605249</td>\n",
       "      <td>0.556454</td>\n",
       "      <td>101.025910</td>\n",
       "      <td>1.825822</td>\n",
       "      <td>0.778319</td>\n",
       "      <td>2.171373</td>\n",
       "      <td>2021.502455</td>\n",
       "      <td>5.172185</td>\n",
       "    </tr>\n",
       "    <tr>\n",
       "      <th>std</th>\n",
       "      <td>84.901428</td>\n",
       "      <td>0.743715</td>\n",
       "      <td>34.557289</td>\n",
       "      <td>0.512182</td>\n",
       "      <td>0.861787</td>\n",
       "      <td>1.386023</td>\n",
       "      <td>0.500003</td>\n",
       "      <td>2.965808</td>\n",
       "    </tr>\n",
       "    <tr>\n",
       "      <th>min</th>\n",
       "      <td>0.000000</td>\n",
       "      <td>0.000000</td>\n",
       "      <td>0.000000</td>\n",
       "      <td>0.000000</td>\n",
       "      <td>0.000000</td>\n",
       "      <td>0.000000</td>\n",
       "      <td>2021.000000</td>\n",
       "      <td>1.000000</td>\n",
       "    </tr>\n",
       "    <tr>\n",
       "      <th>25%</th>\n",
       "      <td>14.000000</td>\n",
       "      <td>0.000000</td>\n",
       "      <td>79.000000</td>\n",
       "      <td>2.000000</td>\n",
       "      <td>0.000000</td>\n",
       "      <td>1.000000</td>\n",
       "      <td>2021.000000</td>\n",
       "      <td>3.000000</td>\n",
       "    </tr>\n",
       "    <tr>\n",
       "      <th>50%</th>\n",
       "      <td>55.000000</td>\n",
       "      <td>0.000000</td>\n",
       "      <td>97.000000</td>\n",
       "      <td>2.000000</td>\n",
       "      <td>1.000000</td>\n",
       "      <td>2.000000</td>\n",
       "      <td>2022.000000</td>\n",
       "      <td>5.000000</td>\n",
       "    </tr>\n",
       "    <tr>\n",
       "      <th>75%</th>\n",
       "      <td>118.000000</td>\n",
       "      <td>1.000000</td>\n",
       "      <td>119.000000</td>\n",
       "      <td>2.000000</td>\n",
       "      <td>1.000000</td>\n",
       "      <td>3.000000</td>\n",
       "      <td>2022.000000</td>\n",
       "      <td>6.000000</td>\n",
       "    </tr>\n",
       "    <tr>\n",
       "      <th>max</th>\n",
       "      <td>443.000000</td>\n",
       "      <td>5.000000</td>\n",
       "      <td>540.000000</td>\n",
       "      <td>4.000000</td>\n",
       "      <td>6.000000</td>\n",
       "      <td>17.000000</td>\n",
       "      <td>2022.000000</td>\n",
       "      <td>12.000000</td>\n",
       "    </tr>\n",
       "  </tbody>\n",
       "</table>\n",
       "</div>"
      ],
      "text/plain": [
       "          lead_time  no_of_special_requests  avg_price_per_room  no_of_adults  \\\n",
       "count  27093.000000            27093.000000        27093.000000  27093.000000   \n",
       "mean      81.605249                0.556454          101.025910      1.825822   \n",
       "std       84.901428                0.743715           34.557289      0.512182   \n",
       "min        0.000000                0.000000            0.000000      0.000000   \n",
       "25%       14.000000                0.000000           79.000000      2.000000   \n",
       "50%       55.000000                0.000000           97.000000      2.000000   \n",
       "75%      118.000000                1.000000          119.000000      2.000000   \n",
       "max      443.000000                5.000000          540.000000      4.000000   \n",
       "\n",
       "       no_of_weekend_nights  no_of_week_nights  arrival_year  arrival_month  \n",
       "count          27093.000000       27093.000000  27093.000000   27093.000000  \n",
       "mean               0.778319           2.171373   2021.502455       5.172185  \n",
       "std                0.861787           1.386023      0.500003       2.965808  \n",
       "min                0.000000           0.000000   2021.000000       1.000000  \n",
       "25%                0.000000           1.000000   2021.000000       3.000000  \n",
       "50%                1.000000           2.000000   2022.000000       5.000000  \n",
       "75%                1.000000           3.000000   2022.000000       6.000000  \n",
       "max                6.000000          17.000000   2022.000000      12.000000  "
      ]
     },
     "execution_count": 21,
     "metadata": {},
     "output_type": "execute_result"
    }
   ],
   "source": [
    "df[num].describe()"
   ]
  },
  {
   "cell_type": "code",
   "execution_count": 22,
   "id": "23be2633",
   "metadata": {},
   "outputs": [
    {
     "data": {
      "text/html": [
       "<div>\n",
       "<style scoped>\n",
       "    .dataframe tbody tr th:only-of-type {\n",
       "        vertical-align: middle;\n",
       "    }\n",
       "\n",
       "    .dataframe tbody tr th {\n",
       "        vertical-align: top;\n",
       "    }\n",
       "\n",
       "    .dataframe thead th {\n",
       "        text-align: right;\n",
       "    }\n",
       "</style>\n",
       "<table border=\"1\" class=\"dataframe\">\n",
       "  <thead>\n",
       "    <tr style=\"text-align: right;\">\n",
       "      <th></th>\n",
       "      <th>market_segment_type</th>\n",
       "      <th>required_car_parking_space</th>\n",
       "      <th>booking_status</th>\n",
       "      <th>rebooked</th>\n",
       "    </tr>\n",
       "  </thead>\n",
       "  <tbody>\n",
       "    <tr>\n",
       "      <th>count</th>\n",
       "      <td>27093</td>\n",
       "      <td>27093</td>\n",
       "      <td>27093</td>\n",
       "      <td>8857</td>\n",
       "    </tr>\n",
       "    <tr>\n",
       "      <th>unique</th>\n",
       "      <td>2</td>\n",
       "      <td>2</td>\n",
       "      <td>2</td>\n",
       "      <td>2</td>\n",
       "    </tr>\n",
       "    <tr>\n",
       "      <th>top</th>\n",
       "      <td>Online</td>\n",
       "      <td>0</td>\n",
       "      <td>Not Canceled</td>\n",
       "      <td>No</td>\n",
       "    </tr>\n",
       "    <tr>\n",
       "      <th>freq</th>\n",
       "      <td>18456</td>\n",
       "      <td>26311</td>\n",
       "      <td>18236</td>\n",
       "      <td>7092</td>\n",
       "    </tr>\n",
       "  </tbody>\n",
       "</table>\n",
       "</div>"
      ],
      "text/plain": [
       "       market_segment_type  required_car_parking_space booking_status rebooked\n",
       "count                27093                       27093          27093     8857\n",
       "unique                   2                           2              2        2\n",
       "top                 Online                           0   Not Canceled       No\n",
       "freq                 18456                       26311          18236     7092"
      ]
     },
     "execution_count": 22,
     "metadata": {},
     "output_type": "execute_result"
    }
   ],
   "source": [
    "df[cat].describe()"
   ]
  },
  {
   "cell_type": "markdown",
   "id": "89c54d83",
   "metadata": {},
   "source": [
    "### Inference:\n",
    "\n",
    "* Target column : booking_status\n",
    "* Converted Arrival date into date time and extracted year and month for the analysis \n",
    "* Avg price of booking, leadtime are right skewed\n"
   ]
  },
  {
   "cell_type": "markdown",
   "id": "797b2541",
   "metadata": {},
   "source": [
    "# DEEP ANALYSIS\n",
    "\n",
    "## Understanding the target column"
   ]
  },
  {
   "cell_type": "code",
   "execution_count": 23,
   "id": "02418776",
   "metadata": {},
   "outputs": [
    {
     "data": {
      "text/plain": [
       "Not Canceled    67.308899\n",
       "Canceled        32.691101\n",
       "Name: booking_status, dtype: float64"
      ]
     },
     "execution_count": 23,
     "metadata": {},
     "output_type": "execute_result"
    }
   ],
   "source": [
    "df['booking_status'].value_counts(normalize=True)*100"
   ]
  },
  {
   "cell_type": "code",
   "execution_count": 24,
   "id": "c6c8123c",
   "metadata": {},
   "outputs": [
    {
     "data": {
      "image/png": "[encoded data removed]",
      "text/plain": [
       "<Figure size 640x480 with 1 Axes>"
      ]
     },
     "metadata": {},
     "output_type": "display_data"
    }
   ],
   "source": [
    "df['booking_status'].value_counts().plot(kind='pie',autopct='%.2f%%')\n",
    "plt.show()"
   ]
  },
  {
   "cell_type": "markdown",
   "id": "c67961e2",
   "metadata": {},
   "source": [
    "Balanced data so we can proceed with this( while building models we can encode Not canceled as 0, canceled as 1)"
   ]
  },
  {
   "cell_type": "markdown",
   "id": "0432e072",
   "metadata": {},
   "source": [
    "## Missing values"
   ]
  },
  {
   "cell_type": "code",
   "execution_count": 25,
   "id": "74cada8c",
   "metadata": {},
   "outputs": [
    {
     "data": {
      "text/plain": [
       "lead_time                         0\n",
       "market_segment_type               0\n",
       "no_of_special_requests            0\n",
       "avg_price_per_room                0\n",
       "no_of_adults                      0\n",
       "no_of_weekend_nights              0\n",
       "arrival_date                      0\n",
       "required_car_parking_space        0\n",
       "no_of_week_nights                 0\n",
       "booking_status                    0\n",
       "rebooked                      18236\n",
       "arrival_year                      0\n",
       "arrival_month                     0\n",
       "dtype: int64"
      ]
     },
     "execution_count": 25,
     "metadata": {},
     "output_type": "execute_result"
    }
   ],
   "source": [
    "df.isnull().sum()"
   ]
  },
  {
   "cell_type": "markdown",
   "id": "b98ca9f0",
   "metadata": {},
   "source": [
    "* We will analysis the rebooked column and we will drop it later while building the model"
   ]
  },
  {
   "cell_type": "markdown",
   "id": "bea9104f",
   "metadata": {},
   "source": [
    "### Univariate analysis(Num)"
   ]
  },
  {
   "cell_type": "code",
   "execution_count": 26,
   "id": "83fb59d2",
   "metadata": {},
   "outputs": [],
   "source": [
    "plt.rcParams['figure.figsize'] = [20,10]"
   ]
  },
  {
   "cell_type": "code",
   "execution_count": 27,
   "id": "c8ebc2bd",
   "metadata": {},
   "outputs": [
    {
     "data": {
      "image/png": "[encoded data removed]",
      "text/plain": [
       "<Figure size 2000x1000 with 8 Axes>"
      ]
     },
     "metadata": {},
     "output_type": "display_data"
    }
   ],
   "source": [
    "t=1\n",
    "for i in num:\n",
    "    plt.subplot(2,4,t)\n",
    "    sns.distplot(df[i])\n",
    "    plt.title(f'Distribution of {i}')\n",
    "    t+=1\n",
    "    \n",
    "plt.tight_layout()\n",
    "plt.show()"
   ]
  },
  {
   "cell_type": "code",
   "execution_count": 28,
   "id": "2aac8ffd",
   "metadata": {},
   "outputs": [
    {
     "data": {
      "image/png": "[encoded data removed]",
      "text/plain": [
       "<Figure size 2000x1000 with 1 Axes>"
      ]
     },
     "metadata": {},
     "output_type": "display_data"
    }
   ],
   "source": [
    "sns.distplot(df['avg_price_per_room'])\n",
    "plt.show()"
   ]
  },
  {
   "cell_type": "markdown",
   "id": "23a878c8",
   "metadata": {},
   "source": [
    "* There are zeros in the avg price column , considering them as a pattern we are not dropping or treating these values \n",
    "* More bookings are in 4th month of the year\n",
    "* Maajority of the bopokings are for 2 adults\n",
    "* Many are not spending weekend nights in the hotel and etc..."
   ]
  },
  {
   "cell_type": "markdown",
   "id": "71f3a1af",
   "metadata": {},
   "source": [
    "### Univariate analysis(Cat)"
   ]
  },
  {
   "cell_type": "code",
   "execution_count": 29,
   "id": "9d192119",
   "metadata": {},
   "outputs": [
    {
     "data": {
      "image/png": "[encoded data removed]",
      "text/plain": [
       "<Figure size 2000x1000 with 4 Axes>"
      ]
     },
     "metadata": {},
     "output_type": "display_data"
    }
   ],
   "source": [
    "t=1\n",
    "for i in cat:\n",
    "    plt.subplot(2,3,t)\n",
    "    df[i].value_counts().plot(kind='bar')\n",
    "    plt.title(f'Count plot of {i}')\n",
    "    t+=1\n",
    "plt.tight_layout()\n",
    "plt.show()"
   ]
  },
  {
   "cell_type": "code",
   "execution_count": 30,
   "id": "3013bc77",
   "metadata": {},
   "outputs": [
    {
     "data": {
      "text/html": [
       "<div>\n",
       "<style scoped>\n",
       "    .dataframe tbody tr th:only-of-type {\n",
       "        vertical-align: middle;\n",
       "    }\n",
       "\n",
       "    .dataframe tbody tr th {\n",
       "        vertical-align: top;\n",
       "    }\n",
       "\n",
       "    .dataframe thead th {\n",
       "        text-align: right;\n",
       "    }\n",
       "</style>\n",
       "<table border=\"1\" class=\"dataframe\">\n",
       "  <thead>\n",
       "    <tr style=\"text-align: right;\">\n",
       "      <th></th>\n",
       "      <th>lead_time</th>\n",
       "      <th>market_segment_type</th>\n",
       "      <th>no_of_special_requests</th>\n",
       "      <th>avg_price_per_room</th>\n",
       "      <th>no_of_adults</th>\n",
       "      <th>no_of_weekend_nights</th>\n",
       "      <th>arrival_date</th>\n",
       "      <th>required_car_parking_space</th>\n",
       "      <th>no_of_week_nights</th>\n",
       "      <th>booking_status</th>\n",
       "      <th>rebooked</th>\n",
       "      <th>arrival_year</th>\n",
       "      <th>arrival_month</th>\n",
       "    </tr>\n",
       "  </thead>\n",
       "  <tbody>\n",
       "    <tr>\n",
       "      <th>34</th>\n",
       "      <td>53</td>\n",
       "      <td>Online</td>\n",
       "      <td>0</td>\n",
       "      <td>149.40</td>\n",
       "      <td>2</td>\n",
       "      <td>2</td>\n",
       "      <td>2021-01-01</td>\n",
       "      <td>0</td>\n",
       "      <td>2</td>\n",
       "      <td>Canceled</td>\n",
       "      <td>Yes</td>\n",
       "      <td>2021</td>\n",
       "      <td>1</td>\n",
       "    </tr>\n",
       "    <tr>\n",
       "      <th>76</th>\n",
       "      <td>38</td>\n",
       "      <td>Online</td>\n",
       "      <td>1</td>\n",
       "      <td>207.90</td>\n",
       "      <td>2</td>\n",
       "      <td>2</td>\n",
       "      <td>2021-01-01</td>\n",
       "      <td>0</td>\n",
       "      <td>3</td>\n",
       "      <td>Canceled</td>\n",
       "      <td>Yes</td>\n",
       "      <td>2021</td>\n",
       "      <td>1</td>\n",
       "    </tr>\n",
       "    <tr>\n",
       "      <th>102</th>\n",
       "      <td>69</td>\n",
       "      <td>Online</td>\n",
       "      <td>0</td>\n",
       "      <td>135.90</td>\n",
       "      <td>2</td>\n",
       "      <td>2</td>\n",
       "      <td>2021-01-01</td>\n",
       "      <td>0</td>\n",
       "      <td>0</td>\n",
       "      <td>Canceled</td>\n",
       "      <td>Yes</td>\n",
       "      <td>2021</td>\n",
       "      <td>1</td>\n",
       "    </tr>\n",
       "    <tr>\n",
       "      <th>109</th>\n",
       "      <td>205</td>\n",
       "      <td>Online</td>\n",
       "      <td>1</td>\n",
       "      <td>90.95</td>\n",
       "      <td>1</td>\n",
       "      <td>2</td>\n",
       "      <td>2021-01-05</td>\n",
       "      <td>0</td>\n",
       "      <td>8</td>\n",
       "      <td>Canceled</td>\n",
       "      <td>Yes</td>\n",
       "      <td>2021</td>\n",
       "      <td>1</td>\n",
       "    </tr>\n",
       "    <tr>\n",
       "      <th>114</th>\n",
       "      <td>132</td>\n",
       "      <td>Online</td>\n",
       "      <td>0</td>\n",
       "      <td>105.83</td>\n",
       "      <td>2</td>\n",
       "      <td>0</td>\n",
       "      <td>2021-01-05</td>\n",
       "      <td>0</td>\n",
       "      <td>4</td>\n",
       "      <td>Canceled</td>\n",
       "      <td>Yes</td>\n",
       "      <td>2021</td>\n",
       "      <td>1</td>\n",
       "    </tr>\n",
       "  </tbody>\n",
       "</table>\n",
       "</div>"
      ],
      "text/plain": [
       "     lead_time market_segment_type  no_of_special_requests  \\\n",
       "34          53              Online                       0   \n",
       "76          38              Online                       1   \n",
       "102         69              Online                       0   \n",
       "109        205              Online                       1   \n",
       "114        132              Online                       0   \n",
       "\n",
       "     avg_price_per_room  no_of_adults  no_of_weekend_nights arrival_date  \\\n",
       "34               149.40             2                     2   2021-01-01   \n",
       "76               207.90             2                     2   2021-01-01   \n",
       "102              135.90             2                     2   2021-01-01   \n",
       "109               90.95             1                     2   2021-01-05   \n",
       "114              105.83             2                     0   2021-01-05   \n",
       "\n",
       "    required_car_parking_space  no_of_week_nights booking_status rebooked  \\\n",
       "34                           0                  2       Canceled      Yes   \n",
       "76                           0                  3       Canceled      Yes   \n",
       "102                          0                  0       Canceled      Yes   \n",
       "109                          0                  8       Canceled      Yes   \n",
       "114                          0                  4       Canceled      Yes   \n",
       "\n",
       "     arrival_year  arrival_month  \n",
       "34           2021              1  \n",
       "76           2021              1  \n",
       "102          2021              1  \n",
       "109          2021              1  \n",
       "114          2021              1  "
      ]
     },
     "execution_count": 30,
     "metadata": {},
     "output_type": "execute_result"
    }
   ],
   "source": [
    "can = df[df['rebooked'] == 'Yes']\n",
    "can.head()"
   ]
  },
  {
   "cell_type": "code",
   "execution_count": 31,
   "id": "78a93ec8",
   "metadata": {},
   "outputs": [
    {
     "data": {
      "text/plain": [
       "<Axes: xlabel='arrival_month', ylabel='count'>"
      ]
     },
     "execution_count": 31,
     "metadata": {},
     "output_type": "execute_result"
    },
    {
     "data": {
      "image/png": "[encoded data removed]",
      "text/plain": [
       "<Figure size 2000x1000 with 1 Axes>"
      ]
     },
     "metadata": {},
     "output_type": "display_data"
    }
   ],
   "source": [
    "sns.countplot(x= can['arrival_month'], hue =can['arrival_year'])"
   ]
  },
  {
   "cell_type": "markdown",
   "id": "162b9354",
   "metadata": {},
   "source": [
    "* In 2022, cancalation and rebooked happened more in June and in 2021, it was in March \n",
    "* There are nearly 1700 bookings have been cancelled and re booked "
   ]
  },
  {
   "cell_type": "markdown",
   "id": "6e2845b5",
   "metadata": {},
   "source": [
    "### Check the outliers "
   ]
  },
  {
   "cell_type": "code",
   "execution_count": 32,
   "id": "fabcca4b",
   "metadata": {},
   "outputs": [],
   "source": [
    "out = ['lead_time',\n",
    " 'no_of_special_requests',\n",
    " 'avg_price_per_room',\n",
    " 'no_of_adults',\n",
    " 'no_of_weekend_nights',\n",
    " 'no_of_week_nights']"
   ]
  },
  {
   "cell_type": "code",
   "execution_count": 33,
   "id": "bfadf3e6",
   "metadata": {},
   "outputs": [
    {
     "data": {
      "text/plain": [
       "['lead_time',\n",
       " 'no_of_special_requests',\n",
       " 'avg_price_per_room',\n",
       " 'no_of_adults',\n",
       " 'no_of_weekend_nights',\n",
       " 'no_of_week_nights']"
      ]
     },
     "execution_count": 33,
     "metadata": {},
     "output_type": "execute_result"
    }
   ],
   "source": [
    "out"
   ]
  },
  {
   "cell_type": "code",
   "execution_count": 34,
   "id": "d59bbc85",
   "metadata": {},
   "outputs": [
    {
     "data": {
      "image/png": "[encoded data removed]",
      "text/plain": [
       "<Figure size 2000x1000 with 6 Axes>"
      ]
     },
     "metadata": {},
     "output_type": "display_data"
    }
   ],
   "source": [
    "t=1\n",
    "for i in out:\n",
    "    plt.subplot(2,3,t)\n",
    "    sns.boxplot(df[i])\n",
    "    plt.title(f'Box plot of {i}')\n",
    "    t+=1\n",
    "plt.tight_layout()\n",
    "plt.show()"
   ]
  },
  {
   "cell_type": "code",
   "execution_count": 35,
   "id": "306410af",
   "metadata": {},
   "outputs": [],
   "source": [
    "q3 = df[out].quantile(0.75)\n",
    "q1 = df[out].quantile(0.25)\n",
    "\n",
    "iqr = q3 - q1\n",
    "\n",
    "lw = q1 - (1.5*iqr)\n",
    "uw = q3 + (1.5*iqr)\n"
   ]
  },
  {
   "cell_type": "code",
   "execution_count": 36,
   "id": "ea6ee547",
   "metadata": {},
   "outputs": [],
   "source": [
    "outliers = df[((df[out] < lw) | (df[out] > uw)).any(axis=1)]"
   ]
  },
  {
   "cell_type": "code",
   "execution_count": 37,
   "id": "d4dbcde5",
   "metadata": {},
   "outputs": [
    {
     "data": {
      "text/plain": [
       "36.496512014173405"
      ]
     },
     "execution_count": 37,
     "metadata": {},
     "output_type": "execute_result"
    }
   ],
   "source": [
    "len(outliers) / len(df)*100"
   ]
  },
  {
   "cell_type": "markdown",
   "id": "d1a70046",
   "metadata": {},
   "source": [
    "* Nearly 36% of data are outliers so we will consider them for furthur analysis"
   ]
  },
  {
   "cell_type": "markdown",
   "id": "7576c93e",
   "metadata": {},
   "source": [
    "### Bi variate ( Num vs Target)"
   ]
  },
  {
   "cell_type": "code",
   "execution_count": 38,
   "id": "2df6c773",
   "metadata": {},
   "outputs": [
    {
     "data": {
      "text/plain": [
       "['lead_time',\n",
       " 'no_of_special_requests',\n",
       " 'avg_price_per_room',\n",
       " 'no_of_adults',\n",
       " 'no_of_weekend_nights',\n",
       " 'no_of_week_nights']"
      ]
     },
     "execution_count": 38,
     "metadata": {},
     "output_type": "execute_result"
    }
   ],
   "source": [
    "out"
   ]
  },
  {
   "cell_type": "code",
   "execution_count": 39,
   "id": "8a936a26",
   "metadata": {},
   "outputs": [
    {
     "name": "stdout",
     "output_type": "stream",
     "text": [
      "lead_time for each target labels\n",
      "                      mean  median\n",
      "booking_status                    \n",
      "Canceled        134.035791   112.0\n",
      "Not Canceled     56.140382    36.0\n",
      "\n",
      "no_of_special_requests for each target labels\n",
      "                    mean  median\n",
      "booking_status                  \n",
      "Canceled        0.305069     0.0\n",
      "Not Canceled    0.678548     0.0\n",
      "\n",
      "avg_price_per_room for each target labels\n",
      "                      mean  median\n",
      "booking_status                    \n",
      "Canceled        109.722152   107.1\n",
      "Not Canceled     96.802253    93.0\n",
      "\n",
      "no_of_adults for each target labels\n",
      "                    mean  median\n",
      "booking_status                  \n",
      "Canceled        1.903240     2.0\n",
      "Not Canceled    1.788221     2.0\n",
      "\n",
      "no_of_weekend_nights for each target labels\n",
      "                    mean  median\n",
      "booking_status                  \n",
      "Canceled        0.869933     1.0\n",
      "Not Canceled    0.733823     0.0\n",
      "\n",
      "no_of_week_nights for each target labels\n",
      "                    mean  median\n",
      "booking_status                  \n",
      "Canceled        2.350119     2.0\n",
      "Not Canceled    2.084558     2.0\n",
      "\n"
     ]
    }
   ],
   "source": [
    "for i in out:\n",
    "    print(f'{i} for each target labels')\n",
    "    print(df.groupby('booking_status')[i].agg(['mean','median']))\n",
    "    print()"
   ]
  },
  {
   "cell_type": "markdown",
   "id": "11fec445",
   "metadata": {},
   "source": [
    "* LEAD TIME, NO of spl request, avg price has some pattern where as no of adults, weekedn nights and weeday nights columns has less pattern"
   ]
  },
  {
   "cell_type": "code",
   "execution_count": 40,
   "id": "7b1a55d9",
   "metadata": {},
   "outputs": [],
   "source": [
    "# plot - barplot, kdeplot, lineplot"
   ]
  },
  {
   "cell_type": "markdown",
   "id": "04249e5f",
   "metadata": {},
   "source": [
    "### Bi variate ( Cat vs Target)"
   ]
  },
  {
   "cell_type": "code",
   "execution_count": 41,
   "id": "9130ea3a",
   "metadata": {},
   "outputs": [
    {
     "name": "stdout",
     "output_type": "stream",
     "text": [
      "market_segment_type for each target labels\n",
      "----------\n",
      "market_segment_type  Offline  Online\n",
      "booking_status                      \n",
      "Canceled                2589    6268\n",
      "Not Canceled            6048   12188\n",
      "\n",
      "required_car_parking_space for each target labels\n",
      "----------\n",
      "required_car_parking_space      0    1\n",
      "booking_status                        \n",
      "Canceled                     8792   65\n",
      "Not Canceled                17519  717\n",
      "\n",
      "rebooked for each target labels\n",
      "----------\n",
      "rebooked          No   Yes\n",
      "booking_status            \n",
      "Canceled        7092  1765\n",
      "\n"
     ]
    }
   ],
   "source": [
    "for i in cat:\n",
    "    if i != 'booking_status':\n",
    "        print(f'{i} for each target labels')\n",
    "        print('----------')\n",
    "        print(pd.crosstab(df['booking_status'],df[i]))\n",
    "        print()"
   ]
  },
  {
   "cell_type": "markdown",
   "id": "9e07e618",
   "metadata": {},
   "source": [
    "* More cancellation are done by online booking. Pople with no parking lots are cancelling the booking(more likely)"
   ]
  },
  {
   "cell_type": "code",
   "execution_count": 42,
   "id": "3a63800e",
   "metadata": {},
   "outputs": [],
   "source": [
    "# countplot(x , hue)"
   ]
  },
  {
   "cell_type": "markdown",
   "id": "39a368fa",
   "metadata": {},
   "source": [
    "### Multicollinearity"
   ]
  },
  {
   "cell_type": "code",
   "execution_count": 43,
   "id": "f0278f0a",
   "metadata": {},
   "outputs": [
    {
     "data": {
      "text/plain": [
       "['lead_time',\n",
       " 'no_of_special_requests',\n",
       " 'avg_price_per_room',\n",
       " 'no_of_adults',\n",
       " 'no_of_weekend_nights',\n",
       " 'no_of_week_nights']"
      ]
     },
     "execution_count": 43,
     "metadata": {},
     "output_type": "execute_result"
    }
   ],
   "source": [
    "out"
   ]
  },
  {
   "cell_type": "code",
   "execution_count": 44,
   "id": "cba6a50e",
   "metadata": {},
   "outputs": [
    {
     "data": {
      "image/png": "[encoded data removed]",
      "text/plain": [
       "<Figure size 2000x1000 with 2 Axes>"
      ]
     },
     "metadata": {},
     "output_type": "display_data"
    }
   ],
   "source": [
    "sns.heatmap(df[out].corr(),annot=True)\n",
    "plt.show()"
   ]
  },
  {
   "cell_type": "markdown",
   "id": "17dc0bb9",
   "metadata": {},
   "source": [
    "* No of adults has slight positive relation with avg price per room\n",
    "* others shows very week relation(no relation)"
   ]
  },
  {
   "cell_type": "code",
   "execution_count": 45,
   "id": "ac3aacdc",
   "metadata": {},
   "outputs": [
    {
     "data": {
      "text/html": [
       "<div>\n",
       "<style scoped>\n",
       "    .dataframe tbody tr th:only-of-type {\n",
       "        vertical-align: middle;\n",
       "    }\n",
       "\n",
       "    .dataframe tbody tr th {\n",
       "        vertical-align: top;\n",
       "    }\n",
       "\n",
       "    .dataframe thead th {\n",
       "        text-align: right;\n",
       "    }\n",
       "</style>\n",
       "<table border=\"1\" class=\"dataframe\">\n",
       "  <thead>\n",
       "    <tr style=\"text-align: right;\">\n",
       "      <th>booking_status</th>\n",
       "      <th>Canceled</th>\n",
       "      <th>Not Canceled</th>\n",
       "    </tr>\n",
       "    <tr>\n",
       "      <th>arrival_year</th>\n",
       "      <th></th>\n",
       "      <th></th>\n",
       "    </tr>\n",
       "  </thead>\n",
       "  <tbody>\n",
       "    <tr>\n",
       "      <th>2021</th>\n",
       "      <td>4469</td>\n",
       "      <td>9011</td>\n",
       "    </tr>\n",
       "    <tr>\n",
       "      <th>2022</th>\n",
       "      <td>4388</td>\n",
       "      <td>9225</td>\n",
       "    </tr>\n",
       "  </tbody>\n",
       "</table>\n",
       "</div>"
      ],
      "text/plain": [
       "booking_status  Canceled  Not Canceled\n",
       "arrival_year                          \n",
       "2021                4469          9011\n",
       "2022                4388          9225"
      ]
     },
     "execution_count": 45,
     "metadata": {},
     "output_type": "execute_result"
    }
   ],
   "source": [
    "pd.crosstab(df['arrival_year'],df['booking_status'])"
   ]
  },
  {
   "cell_type": "code",
   "execution_count": 46,
   "id": "659b1312",
   "metadata": {},
   "outputs": [
    {
     "data": {
      "text/html": [
       "<div>\n",
       "<style scoped>\n",
       "    .dataframe tbody tr th:only-of-type {\n",
       "        vertical-align: middle;\n",
       "    }\n",
       "\n",
       "    .dataframe tbody tr th {\n",
       "        vertical-align: top;\n",
       "    }\n",
       "\n",
       "    .dataframe thead th {\n",
       "        text-align: right;\n",
       "    }\n",
       "</style>\n",
       "<table border=\"1\" class=\"dataframe\">\n",
       "  <thead>\n",
       "    <tr style=\"text-align: right;\">\n",
       "      <th>booking_status</th>\n",
       "      <th>Canceled</th>\n",
       "      <th>Not Canceled</th>\n",
       "    </tr>\n",
       "    <tr>\n",
       "      <th>arrival_month</th>\n",
       "      <th></th>\n",
       "      <th></th>\n",
       "    </tr>\n",
       "  </thead>\n",
       "  <tbody>\n",
       "    <tr>\n",
       "      <th>1</th>\n",
       "      <td>582</td>\n",
       "      <td>1576</td>\n",
       "    </tr>\n",
       "    <tr>\n",
       "      <th>2</th>\n",
       "      <td>1037</td>\n",
       "      <td>1845</td>\n",
       "    </tr>\n",
       "    <tr>\n",
       "      <th>3</th>\n",
       "      <td>1690</td>\n",
       "      <td>2390</td>\n",
       "    </tr>\n",
       "    <tr>\n",
       "      <th>4</th>\n",
       "      <td>1846</td>\n",
       "      <td>2310</td>\n",
       "    </tr>\n",
       "    <tr>\n",
       "      <th>5</th>\n",
       "      <td>1329</td>\n",
       "      <td>2132</td>\n",
       "    </tr>\n",
       "    <tr>\n",
       "      <th>6</th>\n",
       "      <td>1390</td>\n",
       "      <td>2430</td>\n",
       "    </tr>\n",
       "    <tr>\n",
       "      <th>7</th>\n",
       "      <td>243</td>\n",
       "      <td>120</td>\n",
       "    </tr>\n",
       "    <tr>\n",
       "      <th>8</th>\n",
       "      <td>185</td>\n",
       "      <td>829</td>\n",
       "    </tr>\n",
       "    <tr>\n",
       "      <th>9</th>\n",
       "      <td>182</td>\n",
       "      <td>1467</td>\n",
       "    </tr>\n",
       "    <tr>\n",
       "      <th>10</th>\n",
       "      <td>302</td>\n",
       "      <td>1611</td>\n",
       "    </tr>\n",
       "    <tr>\n",
       "      <th>11</th>\n",
       "      <td>49</td>\n",
       "      <td>620</td>\n",
       "    </tr>\n",
       "    <tr>\n",
       "      <th>12</th>\n",
       "      <td>22</td>\n",
       "      <td>906</td>\n",
       "    </tr>\n",
       "  </tbody>\n",
       "</table>\n",
       "</div>"
      ],
      "text/plain": [
       "booking_status  Canceled  Not Canceled\n",
       "arrival_month                         \n",
       "1                    582          1576\n",
       "2                   1037          1845\n",
       "3                   1690          2390\n",
       "4                   1846          2310\n",
       "5                   1329          2132\n",
       "6                   1390          2430\n",
       "7                    243           120\n",
       "8                    185           829\n",
       "9                    182          1467\n",
       "10                   302          1611\n",
       "11                    49           620\n",
       "12                    22           906"
      ]
     },
     "execution_count": 46,
     "metadata": {},
     "output_type": "execute_result"
    }
   ],
   "source": [
    "pd.crosstab(df['arrival_month'],df['booking_status'])"
   ]
  },
  {
   "cell_type": "code",
   "execution_count": null,
   "id": "e8d73dc1",
   "metadata": {},
   "outputs": [],
   "source": []
  },
  {
   "cell_type": "markdown",
   "id": "0aac555e",
   "metadata": {},
   "source": [
    "## Inferential STATS "
   ]
  },
  {
   "cell_type": "code",
   "execution_count": 47,
   "id": "9f50bcba",
   "metadata": {},
   "outputs": [],
   "source": [
    "# Num vs TARGET (95% OF confidence), Assume data is normal and of equal variance\n",
    "\n",
    "# T-test for independence "
   ]
  },
  {
   "cell_type": "code",
   "execution_count": 48,
   "id": "72f1abda",
   "metadata": {},
   "outputs": [
    {
     "data": {
      "text/plain": [
       "array(['Not Canceled', 'Canceled'], dtype=object)"
      ]
     },
     "execution_count": 48,
     "metadata": {},
     "output_type": "execute_result"
    }
   ],
   "source": [
    "df['booking_status'].unique()"
   ]
  },
  {
   "cell_type": "code",
   "execution_count": 49,
   "id": "37ff4a84",
   "metadata": {},
   "outputs": [],
   "source": [
    "from scipy import stats"
   ]
  },
  {
   "cell_type": "code",
   "execution_count": 50,
   "id": "c4fccf6e",
   "metadata": {},
   "outputs": [
    {
     "name": "stdout",
     "output_type": "stream",
     "text": [
      "lead_time vs booking_status\n",
      "Pvalue : 0.0\n",
      "Both lead_time and booking_status are dependent\n",
      "--------------\n",
      "no_of_special_requests vs booking_status\n",
      "Pvalue : 0.0\n",
      "Both no_of_special_requests and booking_status are dependent\n",
      "--------------\n",
      "avg_price_per_room vs booking_status\n",
      "Pvalue : 4.562650510904138e-186\n",
      "Both avg_price_per_room and booking_status are dependent\n",
      "--------------\n",
      "no_of_adults vs booking_status\n",
      "Pvalue : 1.0353570188076589e-67\n",
      "Both no_of_adults and booking_status are dependent\n",
      "--------------\n",
      "no_of_weekend_nights vs booking_status\n",
      "Pvalue : 2.711099357094065e-34\n",
      "Both no_of_weekend_nights and booking_status are dependent\n",
      "--------------\n",
      "no_of_week_nights vs booking_status\n",
      "Pvalue : 1.037842985768642e-49\n",
      "Both no_of_week_nights and booking_status are dependent\n",
      "--------------\n"
     ]
    }
   ],
   "source": [
    "for i in out:\n",
    "    print(f'{i} vs booking_status')\n",
    "    samp1 = df[df['booking_status'] == 'Canceled'][i]\n",
    "    samp2 = df[df['booking_status'] == 'Not Canceled'][i]\n",
    "    \n",
    "    test_stats, p_value = stats.ttest_ind(samp1, samp2)\n",
    "    print('Pvalue :', p_value)\n",
    "    if p_value < 0.05:\n",
    "        print(f'Both {i} and booking_status are dependent')\n",
    "    else:\n",
    "        print(f'Both {i} and booking_status are independent')\n",
    "    print('--------------')"
   ]
  },
  {
   "cell_type": "code",
   "execution_count": 51,
   "id": "1347233c",
   "metadata": {},
   "outputs": [],
   "source": [
    "# Cat vs TARGET (95% OF confidence)\n",
    "# Chi square - test for independence "
   ]
  },
  {
   "cell_type": "code",
   "execution_count": 52,
   "id": "e1eef6c2",
   "metadata": {},
   "outputs": [
    {
     "name": "stdout",
     "output_type": "stream",
     "text": [
      "market_segment_type vs booking_status\n",
      "Pvalue : 7.806389643886697e-11\n",
      "Both market_segment_type and booking_status are dependent\n",
      "--------------\n",
      "required_car_parking_space vs booking_status\n",
      "Pvalue : 5.626905783478662e-49\n",
      "Both required_car_parking_space and booking_status are dependent\n",
      "--------------\n",
      "booking_status vs booking_status\n",
      "Pvalue : 0.0\n",
      "Both booking_status and booking_status are dependent\n",
      "--------------\n",
      "rebooked vs booking_status\n",
      "Pvalue : 1.0\n",
      "Both rebooked and booking_status are independent\n",
      "--------------\n"
     ]
    }
   ],
   "source": [
    "for i in cat:\n",
    "    print(f'{i} vs booking_status')\n",
    "\n",
    "    obs = pd.crosstab(df['booking_status'],df[i])\n",
    "    \n",
    "    test_stats, p_value, dof, exp = stats.chi2_contingency(obs)\n",
    "    print('Pvalue :', p_value)\n",
    "    if p_value < 0.05:\n",
    "        print(f'Both {i} and booking_status are dependent')\n",
    "    else:\n",
    "        print(f'Both {i} and booking_status are independent')\n",
    "    print('--------------')"
   ]
  },
  {
   "cell_type": "code",
   "execution_count": 53,
   "id": "2525d40e",
   "metadata": {},
   "outputs": [],
   "source": [
    "# Removing insignificant columns\n",
    "\n",
    "df.drop(['arrival_date','arrival_year','arrival_month','rebooked'], axis = 1, inplace = True)"
   ]
  },
  {
   "cell_type": "markdown",
   "id": "605799ef",
   "metadata": {},
   "source": [
    "## Encoding"
   ]
  },
  {
   "cell_type": "code",
   "execution_count": 54,
   "id": "b7858bc2",
   "metadata": {},
   "outputs": [
    {
     "data": {
      "text/plain": [
       "['market_segment_type',\n",
       " 'required_car_parking_space',\n",
       " 'booking_status',\n",
       " 'rebooked']"
      ]
     },
     "execution_count": 54,
     "metadata": {},
     "output_type": "execute_result"
    }
   ],
   "source": [
    "cat"
   ]
  },
  {
   "cell_type": "code",
   "execution_count": 55,
   "id": "9fc3450d",
   "metadata": {},
   "outputs": [],
   "source": [
    "df['market_segment_type'] = df['market_segment_type'].replace({'Online':0, 'Offline':1})"
   ]
  },
  {
   "cell_type": "code",
   "execution_count": 56,
   "id": "8bea3ce1",
   "metadata": {},
   "outputs": [],
   "source": [
    "df['required_car_parking_space'] = df['required_car_parking_space'].astype(int)"
   ]
  },
  {
   "cell_type": "code",
   "execution_count": 57,
   "id": "f2d4e520",
   "metadata": {},
   "outputs": [],
   "source": [
    "df['booking_status'] = df['booking_status'].replace({'Not Canceled':0, 'Canceled':1})"
   ]
  },
  {
   "cell_type": "markdown",
   "id": "301d46f6",
   "metadata": {},
   "source": [
    "## Transformation "
   ]
  },
  {
   "cell_type": "code",
   "execution_count": 58,
   "id": "ef724f24",
   "metadata": {
    "scrolled": true
   },
   "outputs": [
    {
     "data": {
      "text/plain": [
       "lead_time                 1.414003\n",
       "no_of_special_requests    1.208995\n",
       "avg_price_per_room        0.618991\n",
       "no_of_adults             -0.365445\n",
       "no_of_weekend_nights      0.824426\n",
       "no_of_week_nights         1.765840\n",
       "dtype: float64"
      ]
     },
     "execution_count": 58,
     "metadata": {},
     "output_type": "execute_result"
    }
   ],
   "source": [
    "df[out].skew()"
   ]
  },
  {
   "cell_type": "code",
   "execution_count": 59,
   "id": "9d6f4bc6",
   "metadata": {
    "scrolled": true
   },
   "outputs": [
    {
     "name": "stdout",
     "output_type": "stream",
     "text": [
      "[  0  34  24  23  46  10  25  21   1 120  48  62   4  20  36  52 208  19\n",
      "  13  55   3  30  94  27 196  41  12  70  14 129  51  53  78  31 175  18\n",
      "  61   2  16  15 231  28 138  56   7  79   9  17 122  44 118  22   8 113\n",
      "  45  38  11 307  32  71  47  69 111 145 205   5 176 132 135 149 144  88\n",
      " 141 162   6 142 156 185  89  85 139 104 166 125 189  83 169 151  87  77\n",
      " 108 160  90 152 153 245  72 159  73 165 133 157  95 164 126 102 106  35\n",
      "  39 110 140  58 128 146  80 117 150 193  75 173 155  65 109  97 115  42\n",
      " 181 215  98 103 148 143 158 167 187 127  76 195  82 136 131  91 194  93\n",
      "  86  60 269  54  50 184 154  49 171 107  74 119  33 174 134  84  37 114\n",
      " 112 180 101 240  92 163  43  64 161 147  26  99  40 200 105  66 172 170\n",
      " 179 121 177 186 203  63 336  57 296 271 294 292 295 183 238 226 249 124\n",
      " 285 201 100 213 202 199 178 278 192 188 206 191  59 130  81 210 261 212\n",
      "  68 168 123 232 276 198 332 237 182 260 251 236 229 207 209 116 216 214\n",
      " 217 190 274 218 197 220  96 222 233 247 263 225 204 219 223  29 221 304\n",
      " 137 320 224 211 259 227 279 230 250 244 277  67 234 255 433 246 243 346\n",
      " 262 235 359 377 256 330 317 258 286 254 318 302 252 287 267 280 253 303\n",
      " 291 242 268 275 239 264 315 273 270 248 349 228 386 297 283 308 418 282\n",
      " 241 281 301 324 326 319 266 290 284 333 289 372 257 327 288 443 298 309\n",
      " 323 322 265]\n",
      "\n",
      "[0 2 1 3 4 5]\n",
      "\n",
      "[ 85.03 125.1   71.69 ... 103.78 129.55  97.55]\n",
      "\n",
      "[1 2 3 4 0]\n",
      "\n",
      "[1 2 0 4 3 5 6]\n",
      "\n",
      "[ 0  3  1  5  4  2  6  8  7  9 15 10 13 12 11 17 14 16]\n",
      "\n"
     ]
    }
   ],
   "source": [
    "for i in out:\n",
    "    print(df[i].unique())\n",
    "    print()"
   ]
  },
  {
   "cell_type": "code",
   "execution_count": 60,
   "id": "6896ec12",
   "metadata": {},
   "outputs": [],
   "source": [
    "from sklearn.preprocessing import PowerTransformer"
   ]
  },
  {
   "cell_type": "code",
   "execution_count": 61,
   "id": "04f0d19b",
   "metadata": {},
   "outputs": [],
   "source": [
    "p = PowerTransformer(standardize=False)"
   ]
  },
  {
   "cell_type": "code",
   "execution_count": 62,
   "id": "19856b38",
   "metadata": {},
   "outputs": [],
   "source": [
    "df['lead_time'] = p.fit_transform(df[['lead_time']])"
   ]
  },
  {
   "cell_type": "code",
   "execution_count": 63,
   "id": "4c5d4783",
   "metadata": {},
   "outputs": [],
   "source": [
    "df['avg_price_per_room'] = p.fit_transform(df[['avg_price_per_room']])"
   ]
  },
  {
   "cell_type": "code",
   "execution_count": 64,
   "id": "f00f42f6",
   "metadata": {},
   "outputs": [
    {
     "data": {
      "text/html": [
       "<div>\n",
       "<style scoped>\n",
       "    .dataframe tbody tr th:only-of-type {\n",
       "        vertical-align: middle;\n",
       "    }\n",
       "\n",
       "    .dataframe tbody tr th {\n",
       "        vertical-align: top;\n",
       "    }\n",
       "\n",
       "    .dataframe thead th {\n",
       "        text-align: right;\n",
       "    }\n",
       "</style>\n",
       "<table border=\"1\" class=\"dataframe\">\n",
       "  <thead>\n",
       "    <tr style=\"text-align: right;\">\n",
       "      <th></th>\n",
       "      <th>lead_time</th>\n",
       "      <th>market_segment_type</th>\n",
       "      <th>no_of_special_requests</th>\n",
       "      <th>avg_price_per_room</th>\n",
       "      <th>no_of_adults</th>\n",
       "      <th>no_of_weekend_nights</th>\n",
       "      <th>required_car_parking_space</th>\n",
       "      <th>no_of_week_nights</th>\n",
       "      <th>booking_status</th>\n",
       "    </tr>\n",
       "  </thead>\n",
       "  <tbody>\n",
       "    <tr>\n",
       "      <th>0</th>\n",
       "      <td>0.000000</td>\n",
       "      <td>0</td>\n",
       "      <td>0</td>\n",
       "      <td>54.957367</td>\n",
       "      <td>1</td>\n",
       "      <td>1</td>\n",
       "      <td>0</td>\n",
       "      <td>0</td>\n",
       "      <td>0</td>\n",
       "    </tr>\n",
       "    <tr>\n",
       "      <th>1</th>\n",
       "      <td>5.760954</td>\n",
       "      <td>0</td>\n",
       "      <td>2</td>\n",
       "      <td>77.211577</td>\n",
       "      <td>2</td>\n",
       "      <td>2</td>\n",
       "      <td>0</td>\n",
       "      <td>0</td>\n",
       "      <td>0</td>\n",
       "    </tr>\n",
       "    <tr>\n",
       "      <th>2</th>\n",
       "      <td>4.968783</td>\n",
       "      <td>0</td>\n",
       "      <td>1</td>\n",
       "      <td>47.277444</td>\n",
       "      <td>2</td>\n",
       "      <td>2</td>\n",
       "      <td>0</td>\n",
       "      <td>0</td>\n",
       "      <td>0</td>\n",
       "    </tr>\n",
       "    <tr>\n",
       "      <th>3</th>\n",
       "      <td>4.877175</td>\n",
       "      <td>0</td>\n",
       "      <td>0</td>\n",
       "      <td>54.769296</td>\n",
       "      <td>1</td>\n",
       "      <td>2</td>\n",
       "      <td>0</td>\n",
       "      <td>0</td>\n",
       "      <td>0</td>\n",
       "    </tr>\n",
       "    <tr>\n",
       "      <th>4</th>\n",
       "      <td>6.512590</td>\n",
       "      <td>0</td>\n",
       "      <td>1</td>\n",
       "      <td>90.254468</td>\n",
       "      <td>2</td>\n",
       "      <td>2</td>\n",
       "      <td>0</td>\n",
       "      <td>3</td>\n",
       "      <td>1</td>\n",
       "    </tr>\n",
       "    <tr>\n",
       "      <th>...</th>\n",
       "      <td>...</td>\n",
       "      <td>...</td>\n",
       "      <td>...</td>\n",
       "      <td>...</td>\n",
       "      <td>...</td>\n",
       "      <td>...</td>\n",
       "      <td>...</td>\n",
       "      <td>...</td>\n",
       "      <td>...</td>\n",
       "    </tr>\n",
       "    <tr>\n",
       "      <th>27088</th>\n",
       "      <td>9.140106</td>\n",
       "      <td>1</td>\n",
       "      <td>0</td>\n",
       "      <td>54.940273</td>\n",
       "      <td>2</td>\n",
       "      <td>1</td>\n",
       "      <td>0</td>\n",
       "      <td>3</td>\n",
       "      <td>1</td>\n",
       "    </tr>\n",
       "    <tr>\n",
       "      <th>27089</th>\n",
       "      <td>3.457666</td>\n",
       "      <td>0</td>\n",
       "      <td>1</td>\n",
       "      <td>84.707641</td>\n",
       "      <td>2</td>\n",
       "      <td>0</td>\n",
       "      <td>0</td>\n",
       "      <td>3</td>\n",
       "      <td>1</td>\n",
       "    </tr>\n",
       "    <tr>\n",
       "      <th>27090</th>\n",
       "      <td>5.830384</td>\n",
       "      <td>0</td>\n",
       "      <td>0</td>\n",
       "      <td>73.288179</td>\n",
       "      <td>2</td>\n",
       "      <td>0</td>\n",
       "      <td>0</td>\n",
       "      <td>3</td>\n",
       "      <td>1</td>\n",
       "    </tr>\n",
       "    <tr>\n",
       "      <th>27091</th>\n",
       "      <td>7.579388</td>\n",
       "      <td>0</td>\n",
       "      <td>1</td>\n",
       "      <td>80.621355</td>\n",
       "      <td>2</td>\n",
       "      <td>0</td>\n",
       "      <td>0</td>\n",
       "      <td>2</td>\n",
       "      <td>1</td>\n",
       "    </tr>\n",
       "    <tr>\n",
       "      <th>27092</th>\n",
       "      <td>10.288916</td>\n",
       "      <td>0</td>\n",
       "      <td>1</td>\n",
       "      <td>58.316138</td>\n",
       "      <td>2</td>\n",
       "      <td>1</td>\n",
       "      <td>0</td>\n",
       "      <td>3</td>\n",
       "      <td>1</td>\n",
       "    </tr>\n",
       "  </tbody>\n",
       "</table>\n",
       "<p>27093 rows × 9 columns</p>\n",
       "</div>"
      ],
      "text/plain": [
       "       lead_time  market_segment_type  no_of_special_requests  \\\n",
       "0       0.000000                    0                       0   \n",
       "1       5.760954                    0                       2   \n",
       "2       4.968783                    0                       1   \n",
       "3       4.877175                    0                       0   \n",
       "4       6.512590                    0                       1   \n",
       "...          ...                  ...                     ...   \n",
       "27088   9.140106                    1                       0   \n",
       "27089   3.457666                    0                       1   \n",
       "27090   5.830384                    0                       0   \n",
       "27091   7.579388                    0                       1   \n",
       "27092  10.288916                    0                       1   \n",
       "\n",
       "       avg_price_per_room  no_of_adults  no_of_weekend_nights  \\\n",
       "0               54.957367             1                     1   \n",
       "1               77.211577             2                     2   \n",
       "2               47.277444             2                     2   \n",
       "3               54.769296             1                     2   \n",
       "4               90.254468             2                     2   \n",
       "...                   ...           ...                   ...   \n",
       "27088           54.940273             2                     1   \n",
       "27089           84.707641             2                     0   \n",
       "27090           73.288179             2                     0   \n",
       "27091           80.621355             2                     0   \n",
       "27092           58.316138             2                     1   \n",
       "\n",
       "       required_car_parking_space  no_of_week_nights  booking_status  \n",
       "0                               0                  0               0  \n",
       "1                               0                  0               0  \n",
       "2                               0                  0               0  \n",
       "3                               0                  0               0  \n",
       "4                               0                  3               1  \n",
       "...                           ...                ...             ...  \n",
       "27088                           0                  3               1  \n",
       "27089                           0                  3               1  \n",
       "27090                           0                  3               1  \n",
       "27091                           0                  2               1  \n",
       "27092                           0                  3               1  \n",
       "\n",
       "[27093 rows x 9 columns]"
      ]
     },
     "execution_count": 64,
     "metadata": {},
     "output_type": "execute_result"
    }
   ],
   "source": [
    "df"
   ]
  },
  {
   "cell_type": "markdown",
   "id": "65c154fa",
   "metadata": {},
   "source": [
    "# Model Building"
   ]
  },
  {
   "cell_type": "code",
   "execution_count": 65,
   "id": "2f3c48a6",
   "metadata": {},
   "outputs": [],
   "source": [
    "# considering the entire data as training data"
   ]
  },
  {
   "cell_type": "code",
   "execution_count": 66,
   "id": "1041e94c",
   "metadata": {},
   "outputs": [],
   "source": [
    "x = df.drop('booking_status',axis = 1)"
   ]
  },
  {
   "cell_type": "code",
   "execution_count": 67,
   "id": "2ab90e3f",
   "metadata": {},
   "outputs": [
    {
     "data": {
      "text/plain": [
       "(27093, 8)"
      ]
     },
     "execution_count": 67,
     "metadata": {},
     "output_type": "execute_result"
    }
   ],
   "source": [
    "x.shape"
   ]
  },
  {
   "cell_type": "code",
   "execution_count": 68,
   "id": "6cc2ddc3",
   "metadata": {},
   "outputs": [
    {
     "data": {
      "text/plain": [
       "Index(['lead_time', 'market_segment_type', 'no_of_special_requests',\n",
       "       'avg_price_per_room', 'no_of_adults', 'no_of_weekend_nights',\n",
       "       'required_car_parking_space', 'no_of_week_nights'],\n",
       "      dtype='object')"
      ]
     },
     "execution_count": 68,
     "metadata": {},
     "output_type": "execute_result"
    }
   ],
   "source": [
    "x.columns"
   ]
  },
  {
   "cell_type": "code",
   "execution_count": 69,
   "id": "74299421",
   "metadata": {},
   "outputs": [],
   "source": [
    "y = df[['booking_status']]"
   ]
  },
  {
   "cell_type": "code",
   "execution_count": 70,
   "id": "8e924ab7",
   "metadata": {},
   "outputs": [],
   "source": [
    "# Base model - STATS"
   ]
  },
  {
   "cell_type": "code",
   "execution_count": 71,
   "id": "71590aec",
   "metadata": {},
   "outputs": [],
   "source": [
    "import statsmodels.api as sma"
   ]
  },
  {
   "cell_type": "code",
   "execution_count": 72,
   "id": "b281fb8d",
   "metadata": {},
   "outputs": [
    {
     "name": "stdout",
     "output_type": "stream",
     "text": [
      "Optimization terminated successfully.\n",
      "         Current function value: 0.507540\n",
      "         Iterations 7\n"
     ]
    }
   ],
   "source": [
    "base1 = sma.Logit(y,x).fit()"
   ]
  },
  {
   "cell_type": "code",
   "execution_count": 73,
   "id": "7db9ee19",
   "metadata": {},
   "outputs": [
    {
     "data": {
      "text/html": [
       "<table class=\"simpletable\">\n",
       "<caption>Logit Regression Results</caption>\n",
       "<tr>\n",
       "  <th>Dep. Variable:</th>    <td>booking_status</td>  <th>  No. Observations:  </th>  <td> 27093</td> \n",
       "</tr>\n",
       "<tr>\n",
       "  <th>Model:</th>                 <td>Logit</td>      <th>  Df Residuals:      </th>  <td> 27085</td> \n",
       "</tr>\n",
       "<tr>\n",
       "  <th>Method:</th>                 <td>MLE</td>       <th>  Df Model:          </th>  <td>     7</td> \n",
       "</tr>\n",
       "<tr>\n",
       "  <th>Date:</th>            <td>Tue, 22 Jul 2025</td> <th>  Pseudo R-squ.:     </th>  <td>0.1969</td> \n",
       "</tr>\n",
       "<tr>\n",
       "  <th>Time:</th>                <td>10:09:05</td>     <th>  Log-Likelihood:    </th> <td> -13751.</td>\n",
       "</tr>\n",
       "<tr>\n",
       "  <th>converged:</th>             <td>True</td>       <th>  LL-Null:           </th> <td> -17122.</td>\n",
       "</tr>\n",
       "<tr>\n",
       "  <th>Covariance Type:</th>     <td>nonrobust</td>    <th>  LLR p-value:       </th>  <td> 0.000</td> \n",
       "</tr>\n",
       "</table>\n",
       "<table class=\"simpletable\">\n",
       "<tr>\n",
       "               <td></td>                 <th>coef</th>     <th>std err</th>      <th>z</th>      <th>P>|z|</th>  <th>[0.025</th>    <th>0.975]</th>  \n",
       "</tr>\n",
       "<tr>\n",
       "  <th>lead_time</th>                  <td>    0.3034</td> <td>    0.005</td> <td>   56.961</td> <td> 0.000</td> <td>    0.293</td> <td>    0.314</td>\n",
       "</tr>\n",
       "<tr>\n",
       "  <th>market_segment_type</th>        <td>   -1.9071</td> <td>    0.039</td> <td>  -49.362</td> <td> 0.000</td> <td>   -1.983</td> <td>   -1.831</td>\n",
       "</tr>\n",
       "<tr>\n",
       "  <th>no_of_special_requests</th>     <td>   -1.3386</td> <td>    0.027</td> <td>  -49.107</td> <td> 0.000</td> <td>   -1.392</td> <td>   -1.285</td>\n",
       "</tr>\n",
       "<tr>\n",
       "  <th>avg_price_per_room</th>         <td>    0.0012</td> <td>    0.001</td> <td>    1.723</td> <td> 0.085</td> <td>   -0.000</td> <td>    0.003</td>\n",
       "</tr>\n",
       "<tr>\n",
       "  <th>no_of_adults</th>               <td>   -0.7149</td> <td>    0.028</td> <td>  -25.517</td> <td> 0.000</td> <td>   -0.770</td> <td>   -0.660</td>\n",
       "</tr>\n",
       "<tr>\n",
       "  <th>no_of_weekend_nights</th>       <td>    0.0381</td> <td>    0.017</td> <td>    2.186</td> <td> 0.029</td> <td>    0.004</td> <td>    0.072</td>\n",
       "</tr>\n",
       "<tr>\n",
       "  <th>required_car_parking_space</th> <td>   -1.7630</td> <td>    0.139</td> <td>  -12.689</td> <td> 0.000</td> <td>   -2.035</td> <td>   -1.491</td>\n",
       "</tr>\n",
       "<tr>\n",
       "  <th>no_of_week_nights</th>          <td>   -0.1326</td> <td>    0.011</td> <td>  -11.993</td> <td> 0.000</td> <td>   -0.154</td> <td>   -0.111</td>\n",
       "</tr>\n",
       "</table>"
      ],
      "text/plain": [
       "<class 'statsmodels.iolib.summary.Summary'>\n",
       "\"\"\"\n",
       "                           Logit Regression Results                           \n",
       "==============================================================================\n",
       "Dep. Variable:         booking_status   No. Observations:                27093\n",
       "Model:                          Logit   Df Residuals:                    27085\n",
       "Method:                           MLE   Df Model:                            7\n",
       "Date:                Tue, 22 Jul 2025   Pseudo R-squ.:                  0.1969\n",
       "Time:                        10:09:05   Log-Likelihood:                -13751.\n",
       "converged:                       True   LL-Null:                       -17122.\n",
       "Covariance Type:            nonrobust   LLR p-value:                     0.000\n",
       "==============================================================================================\n",
       "                                 coef    std err          z      P>|z|      [0.025      0.975]\n",
       "----------------------------------------------------------------------------------------------\n",
       "lead_time                      0.3034      0.005     56.961      0.000       0.293       0.314\n",
       "market_segment_type           -1.9071      0.039    -49.362      0.000      -1.983      -1.831\n",
       "no_of_special_requests        -1.3386      0.027    -49.107      0.000      -1.392      -1.285\n",
       "avg_price_per_room             0.0012      0.001      1.723      0.085      -0.000       0.003\n",
       "no_of_adults                  -0.7149      0.028    -25.517      0.000      -0.770      -0.660\n",
       "no_of_weekend_nights           0.0381      0.017      2.186      0.029       0.004       0.072\n",
       "required_car_parking_space    -1.7630      0.139    -12.689      0.000      -2.035      -1.491\n",
       "no_of_week_nights             -0.1326      0.011    -11.993      0.000      -0.154      -0.111\n",
       "==============================================================================================\n",
       "\"\"\""
      ]
     },
     "execution_count": 73,
     "metadata": {},
     "output_type": "execute_result"
    }
   ],
   "source": [
    "base1.summary()"
   ]
  },
  {
   "cell_type": "code",
   "execution_count": 74,
   "id": "7246f430",
   "metadata": {},
   "outputs": [],
   "source": [
    "# preparing test data "
   ]
  },
  {
   "cell_type": "code",
   "execution_count": 75,
   "id": "c5c9fd9d",
   "metadata": {},
   "outputs": [
    {
     "data": {
      "text/html": [
       "<div>\n",
       "<style scoped>\n",
       "    .dataframe tbody tr th:only-of-type {\n",
       "        vertical-align: middle;\n",
       "    }\n",
       "\n",
       "    .dataframe tbody tr th {\n",
       "        vertical-align: top;\n",
       "    }\n",
       "\n",
       "    .dataframe thead th {\n",
       "        text-align: right;\n",
       "    }\n",
       "</style>\n",
       "<table border=\"1\" class=\"dataframe\">\n",
       "  <thead>\n",
       "    <tr style=\"text-align: right;\">\n",
       "      <th></th>\n",
       "      <th>booking_id</th>\n",
       "      <th>lead_time</th>\n",
       "      <th>market_segment_type</th>\n",
       "      <th>no_of_special_requests</th>\n",
       "      <th>avg_price_per_room</th>\n",
       "      <th>no_of_adults</th>\n",
       "      <th>no_of_weekend_nights</th>\n",
       "      <th>arrival_date</th>\n",
       "      <th>required_car_parking_space</th>\n",
       "      <th>no_of_week_nights</th>\n",
       "      <th>booking_status</th>\n",
       "    </tr>\n",
       "  </thead>\n",
       "  <tbody>\n",
       "    <tr>\n",
       "      <th>0</th>\n",
       "      <td>INNHG_128127</td>\n",
       "      <td>4</td>\n",
       "      <td>Online</td>\n",
       "      <td>1</td>\n",
       "      <td>103.00</td>\n",
       "      <td>1</td>\n",
       "      <td>0</td>\n",
       "      <td>2022-07-01</td>\n",
       "      <td>1</td>\n",
       "      <td>1</td>\n",
       "      <td>Not Canceled</td>\n",
       "    </tr>\n",
       "    <tr>\n",
       "      <th>1</th>\n",
       "      <td>INNHG_128128</td>\n",
       "      <td>147</td>\n",
       "      <td>Online</td>\n",
       "      <td>2</td>\n",
       "      <td>103.70</td>\n",
       "      <td>2</td>\n",
       "      <td>2</td>\n",
       "      <td>2022-07-01</td>\n",
       "      <td>0</td>\n",
       "      <td>2</td>\n",
       "      <td>Not Canceled</td>\n",
       "    </tr>\n",
       "    <tr>\n",
       "      <th>2</th>\n",
       "      <td>INNHG_128129</td>\n",
       "      <td>43</td>\n",
       "      <td>Online</td>\n",
       "      <td>1</td>\n",
       "      <td>126.90</td>\n",
       "      <td>2</td>\n",
       "      <td>1</td>\n",
       "      <td>2022-07-01</td>\n",
       "      <td>1</td>\n",
       "      <td>2</td>\n",
       "      <td>Not Canceled</td>\n",
       "    </tr>\n",
       "    <tr>\n",
       "      <th>3</th>\n",
       "      <td>INNHG_128130</td>\n",
       "      <td>145</td>\n",
       "      <td>Offline</td>\n",
       "      <td>0</td>\n",
       "      <td>72.76</td>\n",
       "      <td>2</td>\n",
       "      <td>0</td>\n",
       "      <td>2022-07-01</td>\n",
       "      <td>0</td>\n",
       "      <td>1</td>\n",
       "      <td>Not Canceled</td>\n",
       "    </tr>\n",
       "    <tr>\n",
       "      <th>4</th>\n",
       "      <td>INNHG_128131</td>\n",
       "      <td>86</td>\n",
       "      <td>Offline</td>\n",
       "      <td>1</td>\n",
       "      <td>107.69</td>\n",
       "      <td>2</td>\n",
       "      <td>1</td>\n",
       "      <td>2022-07-01</td>\n",
       "      <td>0</td>\n",
       "      <td>2</td>\n",
       "      <td>Not Canceled</td>\n",
       "    </tr>\n",
       "    <tr>\n",
       "      <th>...</th>\n",
       "      <td>...</td>\n",
       "      <td>...</td>\n",
       "      <td>...</td>\n",
       "      <td>...</td>\n",
       "      <td>...</td>\n",
       "      <td>...</td>\n",
       "      <td>...</td>\n",
       "      <td>...</td>\n",
       "      <td>...</td>\n",
       "      <td>...</td>\n",
       "      <td>...</td>\n",
       "    </tr>\n",
       "    <tr>\n",
       "      <th>3578</th>\n",
       "      <td>INNHG_131705</td>\n",
       "      <td>258</td>\n",
       "      <td>Online</td>\n",
       "      <td>1</td>\n",
       "      <td>106.20</td>\n",
       "      <td>2</td>\n",
       "      <td>0</td>\n",
       "      <td>2022-09-29</td>\n",
       "      <td>0</td>\n",
       "      <td>1</td>\n",
       "      <td>Canceled</td>\n",
       "    </tr>\n",
       "    <tr>\n",
       "      <th>3579</th>\n",
       "      <td>INNHG_131706</td>\n",
       "      <td>263</td>\n",
       "      <td>Online</td>\n",
       "      <td>0</td>\n",
       "      <td>100.30</td>\n",
       "      <td>2</td>\n",
       "      <td>2</td>\n",
       "      <td>2022-09-29</td>\n",
       "      <td>0</td>\n",
       "      <td>4</td>\n",
       "      <td>Canceled</td>\n",
       "    </tr>\n",
       "    <tr>\n",
       "      <th>3580</th>\n",
       "      <td>INNHG_131707</td>\n",
       "      <td>185</td>\n",
       "      <td>Online</td>\n",
       "      <td>2</td>\n",
       "      <td>116.10</td>\n",
       "      <td>2</td>\n",
       "      <td>2</td>\n",
       "      <td>2022-09-29</td>\n",
       "      <td>0</td>\n",
       "      <td>3</td>\n",
       "      <td>Canceled</td>\n",
       "    </tr>\n",
       "    <tr>\n",
       "      <th>3581</th>\n",
       "      <td>INNHG_131708</td>\n",
       "      <td>214</td>\n",
       "      <td>Online</td>\n",
       "      <td>0</td>\n",
       "      <td>120.90</td>\n",
       "      <td>2</td>\n",
       "      <td>0</td>\n",
       "      <td>2022-09-29</td>\n",
       "      <td>0</td>\n",
       "      <td>3</td>\n",
       "      <td>Canceled</td>\n",
       "    </tr>\n",
       "    <tr>\n",
       "      <th>3582</th>\n",
       "      <td>INNHG_131709</td>\n",
       "      <td>193</td>\n",
       "      <td>Online</td>\n",
       "      <td>1</td>\n",
       "      <td>93.09</td>\n",
       "      <td>2</td>\n",
       "      <td>0</td>\n",
       "      <td>2022-09-29</td>\n",
       "      <td>0</td>\n",
       "      <td>3</td>\n",
       "      <td>Canceled</td>\n",
       "    </tr>\n",
       "  </tbody>\n",
       "</table>\n",
       "<p>3583 rows × 11 columns</p>\n",
       "</div>"
      ],
      "text/plain": [
       "        booking_id  lead_time market_segment_type  no_of_special_requests  \\\n",
       "0     INNHG_128127          4              Online                       1   \n",
       "1     INNHG_128128        147              Online                       2   \n",
       "2     INNHG_128129         43              Online                       1   \n",
       "3     INNHG_128130        145             Offline                       0   \n",
       "4     INNHG_128131         86             Offline                       1   \n",
       "...            ...        ...                 ...                     ...   \n",
       "3578  INNHG_131705        258              Online                       1   \n",
       "3579  INNHG_131706        263              Online                       0   \n",
       "3580  INNHG_131707        185              Online                       2   \n",
       "3581  INNHG_131708        214              Online                       0   \n",
       "3582  INNHG_131709        193              Online                       1   \n",
       "\n",
       "      avg_price_per_room  no_of_adults  no_of_weekend_nights arrival_date  \\\n",
       "0                 103.00             1                     0   2022-07-01   \n",
       "1                 103.70             2                     2   2022-07-01   \n",
       "2                 126.90             2                     1   2022-07-01   \n",
       "3                  72.76             2                     0   2022-07-01   \n",
       "4                 107.69             2                     1   2022-07-01   \n",
       "...                  ...           ...                   ...          ...   \n",
       "3578              106.20             2                     0   2022-09-29   \n",
       "3579              100.30             2                     2   2022-09-29   \n",
       "3580              116.10             2                     2   2022-09-29   \n",
       "3581              120.90             2                     0   2022-09-29   \n",
       "3582               93.09             2                     0   2022-09-29   \n",
       "\n",
       "      required_car_parking_space  no_of_week_nights booking_status  \n",
       "0                              1                  1   Not Canceled  \n",
       "1                              0                  2   Not Canceled  \n",
       "2                              1                  2   Not Canceled  \n",
       "3                              0                  1   Not Canceled  \n",
       "4                              0                  2   Not Canceled  \n",
       "...                          ...                ...            ...  \n",
       "3578                           0                  1       Canceled  \n",
       "3579                           0                  4       Canceled  \n",
       "3580                           0                  3       Canceled  \n",
       "3581                           0                  3       Canceled  \n",
       "3582                           0                  3       Canceled  \n",
       "\n",
       "[3583 rows x 11 columns]"
      ]
     },
     "execution_count": 75,
     "metadata": {},
     "output_type": "execute_result"
    }
   ],
   "source": [
    "test = pd.read_csv('INNHotelsGroup_newdata.csv')\n",
    "test"
   ]
  },
  {
   "cell_type": "code",
   "execution_count": 76,
   "id": "bbb4a3f0",
   "metadata": {},
   "outputs": [],
   "source": [
    "# dropping unwanted columns \n",
    "\n",
    "test.drop(['booking_id','arrival_date'],axis=1,inplace = True)"
   ]
  },
  {
   "cell_type": "code",
   "execution_count": 77,
   "id": "f89373e0",
   "metadata": {},
   "outputs": [],
   "source": [
    "# Encode the columns "
   ]
  },
  {
   "cell_type": "code",
   "execution_count": 78,
   "id": "abf8c545",
   "metadata": {},
   "outputs": [],
   "source": [
    "test['market_segment_type'] = test['market_segment_type'].replace({'Online':0, 'Offline':1})"
   ]
  },
  {
   "cell_type": "code",
   "execution_count": 79,
   "id": "f663880f",
   "metadata": {},
   "outputs": [],
   "source": [
    "test['booking_status'] = test['booking_status'].replace({'Not Canceled':0, 'Canceled':1})"
   ]
  },
  {
   "cell_type": "code",
   "execution_count": 80,
   "id": "dd008032",
   "metadata": {},
   "outputs": [],
   "source": [
    "# Transformation"
   ]
  },
  {
   "cell_type": "code",
   "execution_count": 81,
   "id": "f442de51",
   "metadata": {},
   "outputs": [],
   "source": [
    "p = PowerTransformer(standardize=False)"
   ]
  },
  {
   "cell_type": "code",
   "execution_count": 82,
   "id": "ad89fc03",
   "metadata": {},
   "outputs": [],
   "source": [
    "test['lead_time'] = p.fit_transform(test[['lead_time']])"
   ]
  },
  {
   "cell_type": "code",
   "execution_count": 83,
   "id": "1c9b2921",
   "metadata": {},
   "outputs": [],
   "source": [
    "test['avg_price_per_room'] = p.fit_transform(test[['avg_price_per_room']])"
   ]
  },
  {
   "cell_type": "code",
   "execution_count": 84,
   "id": "cc20816c",
   "metadata": {},
   "outputs": [
    {
     "data": {
      "text/html": [
       "<div>\n",
       "<style scoped>\n",
       "    .dataframe tbody tr th:only-of-type {\n",
       "        vertical-align: middle;\n",
       "    }\n",
       "\n",
       "    .dataframe tbody tr th {\n",
       "        vertical-align: top;\n",
       "    }\n",
       "\n",
       "    .dataframe thead th {\n",
       "        text-align: right;\n",
       "    }\n",
       "</style>\n",
       "<table border=\"1\" class=\"dataframe\">\n",
       "  <thead>\n",
       "    <tr style=\"text-align: right;\">\n",
       "      <th></th>\n",
       "      <th>lead_time</th>\n",
       "      <th>market_segment_type</th>\n",
       "      <th>no_of_special_requests</th>\n",
       "      <th>avg_price_per_room</th>\n",
       "      <th>no_of_adults</th>\n",
       "      <th>no_of_weekend_nights</th>\n",
       "      <th>required_car_parking_space</th>\n",
       "      <th>no_of_week_nights</th>\n",
       "      <th>booking_status</th>\n",
       "    </tr>\n",
       "  </thead>\n",
       "  <tbody>\n",
       "    <tr>\n",
       "      <th>0</th>\n",
       "      <td>2.347833</td>\n",
       "      <td>0</td>\n",
       "      <td>1</td>\n",
       "      <td>57.972265</td>\n",
       "      <td>1</td>\n",
       "      <td>0</td>\n",
       "      <td>1</td>\n",
       "      <td>1</td>\n",
       "      <td>0</td>\n",
       "    </tr>\n",
       "    <tr>\n",
       "      <th>1</th>\n",
       "      <td>18.399249</td>\n",
       "      <td>0</td>\n",
       "      <td>2</td>\n",
       "      <td>58.307105</td>\n",
       "      <td>2</td>\n",
       "      <td>2</td>\n",
       "      <td>0</td>\n",
       "      <td>2</td>\n",
       "      <td>0</td>\n",
       "    </tr>\n",
       "    <tr>\n",
       "      <th>2</th>\n",
       "      <td>9.811614</td>\n",
       "      <td>0</td>\n",
       "      <td>1</td>\n",
       "      <td>69.218724</td>\n",
       "      <td>2</td>\n",
       "      <td>1</td>\n",
       "      <td>1</td>\n",
       "      <td>2</td>\n",
       "      <td>0</td>\n",
       "    </tr>\n",
       "    <tr>\n",
       "      <th>3</th>\n",
       "      <td>18.275113</td>\n",
       "      <td>1</td>\n",
       "      <td>0</td>\n",
       "      <td>43.120880</td>\n",
       "      <td>2</td>\n",
       "      <td>0</td>\n",
       "      <td>0</td>\n",
       "      <td>1</td>\n",
       "      <td>0</td>\n",
       "    </tr>\n",
       "    <tr>\n",
       "      <th>4</th>\n",
       "      <td>14.066941</td>\n",
       "      <td>1</td>\n",
       "      <td>1</td>\n",
       "      <td>60.208996</td>\n",
       "      <td>2</td>\n",
       "      <td>1</td>\n",
       "      <td>0</td>\n",
       "      <td>2</td>\n",
       "      <td>0</td>\n",
       "    </tr>\n",
       "    <tr>\n",
       "      <th>...</th>\n",
       "      <td>...</td>\n",
       "      <td>...</td>\n",
       "      <td>...</td>\n",
       "      <td>...</td>\n",
       "      <td>...</td>\n",
       "      <td>...</td>\n",
       "      <td>...</td>\n",
       "      <td>...</td>\n",
       "      <td>...</td>\n",
       "    </tr>\n",
       "    <tr>\n",
       "      <th>3578</th>\n",
       "      <td>24.211238</td>\n",
       "      <td>0</td>\n",
       "      <td>1</td>\n",
       "      <td>59.500084</td>\n",
       "      <td>2</td>\n",
       "      <td>0</td>\n",
       "      <td>0</td>\n",
       "      <td>1</td>\n",
       "      <td>1</td>\n",
       "    </tr>\n",
       "    <tr>\n",
       "      <th>3579</th>\n",
       "      <td>24.436408</td>\n",
       "      <td>0</td>\n",
       "      <td>0</td>\n",
       "      <td>56.677361</td>\n",
       "      <td>2</td>\n",
       "      <td>2</td>\n",
       "      <td>0</td>\n",
       "      <td>4</td>\n",
       "      <td>1</td>\n",
       "    </tr>\n",
       "    <tr>\n",
       "      <th>3580</th>\n",
       "      <td>20.600195</td>\n",
       "      <td>0</td>\n",
       "      <td>2</td>\n",
       "      <td>64.182104</td>\n",
       "      <td>2</td>\n",
       "      <td>2</td>\n",
       "      <td>0</td>\n",
       "      <td>3</td>\n",
       "      <td>1</td>\n",
       "    </tr>\n",
       "    <tr>\n",
       "      <th>3581</th>\n",
       "      <td>22.115548</td>\n",
       "      <td>0</td>\n",
       "      <td>0</td>\n",
       "      <td>66.429319</td>\n",
       "      <td>2</td>\n",
       "      <td>0</td>\n",
       "      <td>0</td>\n",
       "      <td>3</td>\n",
       "      <td>1</td>\n",
       "    </tr>\n",
       "    <tr>\n",
       "      <th>3582</th>\n",
       "      <td>21.030638</td>\n",
       "      <td>0</td>\n",
       "      <td>1</td>\n",
       "      <td>53.192113</td>\n",
       "      <td>2</td>\n",
       "      <td>0</td>\n",
       "      <td>0</td>\n",
       "      <td>3</td>\n",
       "      <td>1</td>\n",
       "    </tr>\n",
       "  </tbody>\n",
       "</table>\n",
       "<p>3583 rows × 9 columns</p>\n",
       "</div>"
      ],
      "text/plain": [
       "      lead_time  market_segment_type  no_of_special_requests  \\\n",
       "0      2.347833                    0                       1   \n",
       "1     18.399249                    0                       2   \n",
       "2      9.811614                    0                       1   \n",
       "3     18.275113                    1                       0   \n",
       "4     14.066941                    1                       1   \n",
       "...         ...                  ...                     ...   \n",
       "3578  24.211238                    0                       1   \n",
       "3579  24.436408                    0                       0   \n",
       "3580  20.600195                    0                       2   \n",
       "3581  22.115548                    0                       0   \n",
       "3582  21.030638                    0                       1   \n",
       "\n",
       "      avg_price_per_room  no_of_adults  no_of_weekend_nights  \\\n",
       "0              57.972265             1                     0   \n",
       "1              58.307105             2                     2   \n",
       "2              69.218724             2                     1   \n",
       "3              43.120880             2                     0   \n",
       "4              60.208996             2                     1   \n",
       "...                  ...           ...                   ...   \n",
       "3578           59.500084             2                     0   \n",
       "3579           56.677361             2                     2   \n",
       "3580           64.182104             2                     2   \n",
       "3581           66.429319             2                     0   \n",
       "3582           53.192113             2                     0   \n",
       "\n",
       "      required_car_parking_space  no_of_week_nights  booking_status  \n",
       "0                              1                  1               0  \n",
       "1                              0                  2               0  \n",
       "2                              1                  2               0  \n",
       "3                              0                  1               0  \n",
       "4                              0                  2               0  \n",
       "...                          ...                ...             ...  \n",
       "3578                           0                  1               1  \n",
       "3579                           0                  4               1  \n",
       "3580                           0                  3               1  \n",
       "3581                           0                  3               1  \n",
       "3582                           0                  3               1  \n",
       "\n",
       "[3583 rows x 9 columns]"
      ]
     },
     "execution_count": 84,
     "metadata": {},
     "output_type": "execute_result"
    }
   ],
   "source": [
    "test"
   ]
  },
  {
   "cell_type": "code",
   "execution_count": 85,
   "id": "7ec3017d",
   "metadata": {},
   "outputs": [],
   "source": [
    "x_test = test.drop('booking_status',axis=1)\n",
    "y_test = test[['booking_status']]"
   ]
  },
  {
   "cell_type": "code",
   "execution_count": 86,
   "id": "b0c25aca",
   "metadata": {},
   "outputs": [],
   "source": [
    "# predicting the model"
   ]
  },
  {
   "cell_type": "code",
   "execution_count": 87,
   "id": "dfe1ae3f",
   "metadata": {},
   "outputs": [],
   "source": [
    "ypred1 = base1.predict(x_test)"
   ]
  },
  {
   "cell_type": "code",
   "execution_count": 88,
   "id": "92632473",
   "metadata": {},
   "outputs": [
    {
     "data": {
      "text/plain": [
       "0       0\n",
       "1       1\n",
       "2       0\n",
       "3       1\n",
       "4       0\n",
       "       ..\n",
       "3578    1\n",
       "3579    1\n",
       "3580    1\n",
       "3581    1\n",
       "3582    1\n",
       "Length: 3583, dtype: int32"
      ]
     },
     "execution_count": 88,
     "metadata": {},
     "output_type": "execute_result"
    }
   ],
   "source": [
    "ypred1 = (ypred1 >= 0.5).astype(int)\n",
    "ypred1"
   ]
  },
  {
   "cell_type": "code",
   "execution_count": 89,
   "id": "3f01a327",
   "metadata": {},
   "outputs": [],
   "source": [
    "from sklearn.metrics import accuracy_score, precision_score, recall_score, f1_score, classification_report"
   ]
  },
  {
   "cell_type": "code",
   "execution_count": 96,
   "id": "3ac0a97b",
   "metadata": {},
   "outputs": [],
   "source": [
    "summary = pd.DataFrame(columns=['Accuracy','Precision','Recall','F1 score'])\n",
    "summary.index.name ='Model name'"
   ]
  },
  {
   "cell_type": "code",
   "execution_count": 98,
   "id": "29e4f648",
   "metadata": {},
   "outputs": [],
   "source": [
    "def metric(model, ytest, ypred ):\n",
    "    \n",
    "    acc = accuracy_score(ytest,ypred)\n",
    "    pre = precision_score(ytest,ypred)\n",
    "    rec = recall_score(ytest,ypred)\n",
    "    f1 = f1_score(ytest,ypred)\n",
    "    \n",
    "\n",
    "    summary.loc[model]=[acc,pre,rec,f1]\n",
    "    \n",
    "    return summary\n",
    "    "
   ]
  },
  {
   "cell_type": "code",
   "execution_count": 99,
   "id": "c7bbd881",
   "metadata": {},
   "outputs": [
    {
     "data": {
      "text/html": [
       "<div>\n",
       "<style scoped>\n",
       "    .dataframe tbody tr th:only-of-type {\n",
       "        vertical-align: middle;\n",
       "    }\n",
       "\n",
       "    .dataframe tbody tr th {\n",
       "        vertical-align: top;\n",
       "    }\n",
       "\n",
       "    .dataframe thead th {\n",
       "        text-align: right;\n",
       "    }\n",
       "</style>\n",
       "<table border=\"1\" class=\"dataframe\">\n",
       "  <thead>\n",
       "    <tr style=\"text-align: right;\">\n",
       "      <th></th>\n",
       "      <th>Accuracy</th>\n",
       "      <th>Precision</th>\n",
       "      <th>Recall</th>\n",
       "      <th>F1 score</th>\n",
       "    </tr>\n",
       "    <tr>\n",
       "      <th>Model name</th>\n",
       "      <th></th>\n",
       "      <th></th>\n",
       "      <th></th>\n",
       "      <th></th>\n",
       "    </tr>\n",
       "  </thead>\n",
       "  <tbody>\n",
       "    <tr>\n",
       "      <th>Logit without constant</th>\n",
       "      <td>0.634385</td>\n",
       "      <td>0.475468</td>\n",
       "      <td>0.888333</td>\n",
       "      <td>0.619407</td>\n",
       "    </tr>\n",
       "  </tbody>\n",
       "</table>\n",
       "</div>"
      ],
      "text/plain": [
       "                        Accuracy  Precision    Recall  F1 score\n",
       "Model name                                                     \n",
       "Logit without constant  0.634385   0.475468  0.888333  0.619407"
      ]
     },
     "execution_count": 99,
     "metadata": {},
     "output_type": "execute_result"
    }
   ],
   "source": [
    "metric('Logit without constant',y_test,ypred1)"
   ]
  },
  {
   "cell_type": "code",
   "execution_count": 100,
   "id": "bf96a2f7",
   "metadata": {},
   "outputs": [],
   "source": [
    "# Base model with constant\n",
    "\n",
    "x_c = sma.add_constant(x)\n",
    "x_testc = sma.add_constant(x_test)"
   ]
  },
  {
   "cell_type": "code",
   "execution_count": 101,
   "id": "268507c0",
   "metadata": {},
   "outputs": [
    {
     "name": "stdout",
     "output_type": "stream",
     "text": [
      "Optimization terminated successfully.\n",
      "         Current function value: 0.440995\n",
      "         Iterations 7\n"
     ]
    },
    {
     "data": {
      "text/html": [
       "<table class=\"simpletable\">\n",
       "<caption>Logit Regression Results</caption>\n",
       "<tr>\n",
       "  <th>Dep. Variable:</th>    <td>booking_status</td>  <th>  No. Observations:  </th>  <td> 27093</td> \n",
       "</tr>\n",
       "<tr>\n",
       "  <th>Model:</th>                 <td>Logit</td>      <th>  Df Residuals:      </th>  <td> 27084</td> \n",
       "</tr>\n",
       "<tr>\n",
       "  <th>Method:</th>                 <td>MLE</td>       <th>  Df Model:          </th>  <td>     8</td> \n",
       "</tr>\n",
       "<tr>\n",
       "  <th>Date:</th>            <td>Tue, 22 Jul 2025</td> <th>  Pseudo R-squ.:     </th>  <td>0.3022</td> \n",
       "</tr>\n",
       "<tr>\n",
       "  <th>Time:</th>                <td>10:09:57</td>     <th>  Log-Likelihood:    </th> <td> -11948.</td>\n",
       "</tr>\n",
       "<tr>\n",
       "  <th>converged:</th>             <td>True</td>       <th>  LL-Null:           </th> <td> -17122.</td>\n",
       "</tr>\n",
       "<tr>\n",
       "  <th>Covariance Type:</th>     <td>nonrobust</td>    <th>  LLR p-value:       </th>  <td> 0.000</td> \n",
       "</tr>\n",
       "</table>\n",
       "<table class=\"simpletable\">\n",
       "<tr>\n",
       "               <td></td>                 <th>coef</th>     <th>std err</th>      <th>z</th>      <th>P>|z|</th>  <th>[0.025</th>    <th>0.975]</th>  \n",
       "</tr>\n",
       "<tr>\n",
       "  <th>const</th>                      <td>   -5.2007</td> <td>    0.100</td> <td>  -51.843</td> <td> 0.000</td> <td>   -5.397</td> <td>   -5.004</td>\n",
       "</tr>\n",
       "<tr>\n",
       "  <th>lead_time</th>                  <td>    0.4099</td> <td>    0.006</td> <td>   64.869</td> <td> 0.000</td> <td>    0.398</td> <td>    0.422</td>\n",
       "</tr>\n",
       "<tr>\n",
       "  <th>market_segment_type</th>        <td>   -1.6480</td> <td>    0.042</td> <td>  -39.628</td> <td> 0.000</td> <td>   -1.730</td> <td>   -1.567</td>\n",
       "</tr>\n",
       "<tr>\n",
       "  <th>no_of_special_requests</th>     <td>   -1.4782</td> <td>    0.030</td> <td>  -49.559</td> <td> 0.000</td> <td>   -1.537</td> <td>   -1.420</td>\n",
       "</tr>\n",
       "<tr>\n",
       "  <th>avg_price_per_room</th>         <td>    0.0345</td> <td>    0.001</td> <td>   34.009</td> <td> 0.000</td> <td>    0.032</td> <td>    0.036</td>\n",
       "</tr>\n",
       "<tr>\n",
       "  <th>no_of_adults</th>               <td>    0.1914</td> <td>    0.034</td> <td>    5.572</td> <td> 0.000</td> <td>    0.124</td> <td>    0.259</td>\n",
       "</tr>\n",
       "<tr>\n",
       "  <th>no_of_weekend_nights</th>       <td>    0.1732</td> <td>    0.019</td> <td>    9.242</td> <td> 0.000</td> <td>    0.136</td> <td>    0.210</td>\n",
       "</tr>\n",
       "<tr>\n",
       "  <th>required_car_parking_space</th> <td>   -1.8569</td> <td>    0.148</td> <td>  -12.522</td> <td> 0.000</td> <td>   -2.148</td> <td>   -1.566</td>\n",
       "</tr>\n",
       "<tr>\n",
       "  <th>no_of_week_nights</th>          <td>   -0.0026</td> <td>    0.012</td> <td>   -0.218</td> <td> 0.827</td> <td>   -0.026</td> <td>    0.021</td>\n",
       "</tr>\n",
       "</table>"
      ],
      "text/plain": [
       "<class 'statsmodels.iolib.summary.Summary'>\n",
       "\"\"\"\n",
       "                           Logit Regression Results                           \n",
       "==============================================================================\n",
       "Dep. Variable:         booking_status   No. Observations:                27093\n",
       "Model:                          Logit   Df Residuals:                    27084\n",
       "Method:                           MLE   Df Model:                            8\n",
       "Date:                Tue, 22 Jul 2025   Pseudo R-squ.:                  0.3022\n",
       "Time:                        10:09:57   Log-Likelihood:                -11948.\n",
       "converged:                       True   LL-Null:                       -17122.\n",
       "Covariance Type:            nonrobust   LLR p-value:                     0.000\n",
       "==============================================================================================\n",
       "                                 coef    std err          z      P>|z|      [0.025      0.975]\n",
       "----------------------------------------------------------------------------------------------\n",
       "const                         -5.2007      0.100    -51.843      0.000      -5.397      -5.004\n",
       "lead_time                      0.4099      0.006     64.869      0.000       0.398       0.422\n",
       "market_segment_type           -1.6480      0.042    -39.628      0.000      -1.730      -1.567\n",
       "no_of_special_requests        -1.4782      0.030    -49.559      0.000      -1.537      -1.420\n",
       "avg_price_per_room             0.0345      0.001     34.009      0.000       0.032       0.036\n",
       "no_of_adults                   0.1914      0.034      5.572      0.000       0.124       0.259\n",
       "no_of_weekend_nights           0.1732      0.019      9.242      0.000       0.136       0.210\n",
       "required_car_parking_space    -1.8569      0.148    -12.522      0.000      -2.148      -1.566\n",
       "no_of_week_nights             -0.0026      0.012     -0.218      0.827      -0.026       0.021\n",
       "==============================================================================================\n",
       "\"\"\""
      ]
     },
     "execution_count": 101,
     "metadata": {},
     "output_type": "execute_result"
    }
   ],
   "source": [
    "base2 = sma.Logit(y,x_c).fit()\n",
    "base2.summary()"
   ]
  },
  {
   "cell_type": "code",
   "execution_count": 102,
   "id": "42313acb",
   "metadata": {},
   "outputs": [],
   "source": [
    "ypred2 = base2.predict(x_testc)"
   ]
  },
  {
   "cell_type": "code",
   "execution_count": 103,
   "id": "01a0d991",
   "metadata": {},
   "outputs": [],
   "source": [
    "ypred2 = (ypred2>=0.5).astype(int)"
   ]
  },
  {
   "cell_type": "code",
   "execution_count": 104,
   "id": "d7ee236d",
   "metadata": {},
   "outputs": [
    {
     "data": {
      "text/html": [
       "<div>\n",
       "<style scoped>\n",
       "    .dataframe tbody tr th:only-of-type {\n",
       "        vertical-align: middle;\n",
       "    }\n",
       "\n",
       "    .dataframe tbody tr th {\n",
       "        vertical-align: top;\n",
       "    }\n",
       "\n",
       "    .dataframe thead th {\n",
       "        text-align: right;\n",
       "    }\n",
       "</style>\n",
       "<table border=\"1\" class=\"dataframe\">\n",
       "  <thead>\n",
       "    <tr style=\"text-align: right;\">\n",
       "      <th></th>\n",
       "      <th>Accuracy</th>\n",
       "      <th>Precision</th>\n",
       "      <th>Recall</th>\n",
       "      <th>F1 score</th>\n",
       "    </tr>\n",
       "    <tr>\n",
       "      <th>Model name</th>\n",
       "      <th></th>\n",
       "      <th></th>\n",
       "      <th></th>\n",
       "      <th></th>\n",
       "    </tr>\n",
       "  </thead>\n",
       "  <tbody>\n",
       "    <tr>\n",
       "      <th>Logit without constant</th>\n",
       "      <td>0.634385</td>\n",
       "      <td>0.475468</td>\n",
       "      <td>0.888333</td>\n",
       "      <td>0.619407</td>\n",
       "    </tr>\n",
       "    <tr>\n",
       "      <th>Logit with constant</th>\n",
       "      <td>0.614011</td>\n",
       "      <td>0.461731</td>\n",
       "      <td>0.920000</td>\n",
       "      <td>0.614871</td>\n",
       "    </tr>\n",
       "  </tbody>\n",
       "</table>\n",
       "</div>"
      ],
      "text/plain": [
       "                        Accuracy  Precision    Recall  F1 score\n",
       "Model name                                                     \n",
       "Logit without constant  0.634385   0.475468  0.888333  0.619407\n",
       "Logit with constant     0.614011   0.461731  0.920000  0.614871"
      ]
     },
     "execution_count": 104,
     "metadata": {},
     "output_type": "execute_result"
    }
   ],
   "source": [
    "metric('Logit with constant', y_test, ypred2)"
   ]
  },
  {
   "cell_type": "code",
   "execution_count": 106,
   "id": "4848feb9",
   "metadata": {},
   "outputs": [],
   "source": [
    "# SKLEARN - LOGISTIC MODEL"
   ]
  },
  {
   "cell_type": "code",
   "execution_count": 107,
   "id": "e07430a8",
   "metadata": {},
   "outputs": [],
   "source": [
    "from sklearn.linear_model import LogisticRegression"
   ]
  },
  {
   "cell_type": "code",
   "execution_count": 109,
   "id": "5a88d6a4",
   "metadata": {},
   "outputs": [
    {
     "data": {
      "text/html": [
       "<style>#sk-container-id-1 {color: black;background-color: white;}#sk-container-id-1 pre{padding: 0;}#sk-container-id-1 div.sk-toggleable {background-color: white;}#sk-container-id-1 label.sk-toggleable__label {cursor: pointer;display: block;width: 100%;margin-bottom: 0;padding: 0.3em;box-sizing: border-box;text-align: center;}#sk-container-id-1 label.sk-toggleable__label-arrow:before {content: \"▸\";float: left;margin-right: 0.25em;color: #696969;}#sk-container-id-1 label.sk-toggleable__label-arrow:hover:before {color: black;}#sk-container-id-1 div.sk-estimator:hover label.sk-toggleable__label-arrow:before {color: black;}#sk-container-id-1 div.sk-toggleable__content {max-height: 0;max-width: 0;overflow: hidden;text-align: left;background-color: #f0f8ff;}#sk-container-id-1 div.sk-toggleable__content pre {margin: 0.2em;color: black;border-radius: 0.25em;background-color: #f0f8ff;}#sk-container-id-1 input.sk-toggleable__control:checked~div.sk-toggleable__content {max-height: 200px;max-width: 100%;overflow: auto;}#sk-container-id-1 input.sk-toggleable__control:checked~label.sk-toggleable__label-arrow:before {content: \"▾\";}#sk-container-id-1 div.sk-estimator input.sk-toggleable__control:checked~label.sk-toggleable__label {background-color: #d4ebff;}#sk-container-id-1 div.sk-label input.sk-toggleable__control:checked~label.sk-toggleable__label {background-color: #d4ebff;}#sk-container-id-1 input.sk-hidden--visually {border: 0;clip: rect(1px 1px 1px 1px);clip: rect(1px, 1px, 1px, 1px);height: 1px;margin: -1px;overflow: hidden;padding: 0;position: absolute;width: 1px;}#sk-container-id-1 div.sk-estimator {font-family: monospace;background-color: #f0f8ff;border: 1px dotted black;border-radius: 0.25em;box-sizing: border-box;margin-bottom: 0.5em;}#sk-container-id-1 div.sk-estimator:hover {background-color: #d4ebff;}#sk-container-id-1 div.sk-parallel-item::after {content: \"\";width: 100%;border-bottom: 1px solid gray;flex-grow: 1;}#sk-container-id-1 div.sk-label:hover label.sk-toggleable__label {background-color: #d4ebff;}#sk-container-id-1 div.sk-serial::before {content: \"\";position: absolute;border-left: 1px solid gray;box-sizing: border-box;top: 0;bottom: 0;left: 50%;z-index: 0;}#sk-container-id-1 div.sk-serial {display: flex;flex-direction: column;align-items: center;background-color: white;padding-right: 0.2em;padding-left: 0.2em;position: relative;}#sk-container-id-1 div.sk-item {position: relative;z-index: 1;}#sk-container-id-1 div.sk-parallel {display: flex;align-items: stretch;justify-content: center;background-color: white;position: relative;}#sk-container-id-1 div.sk-item::before, #sk-container-id-1 div.sk-parallel-item::before {content: \"\";position: absolute;border-left: 1px solid gray;box-sizing: border-box;top: 0;bottom: 0;left: 50%;z-index: -1;}#sk-container-id-1 div.sk-parallel-item {display: flex;flex-direction: column;z-index: 1;position: relative;background-color: white;}#sk-container-id-1 div.sk-parallel-item:first-child::after {align-self: flex-end;width: 50%;}#sk-container-id-1 div.sk-parallel-item:last-child::after {align-self: flex-start;width: 50%;}#sk-container-id-1 div.sk-parallel-item:only-child::after {width: 0;}#sk-container-id-1 div.sk-dashed-wrapped {border: 1px dashed gray;margin: 0 0.4em 0.5em 0.4em;box-sizing: border-box;padding-bottom: 0.4em;background-color: white;}#sk-container-id-1 div.sk-label label {font-family: monospace;font-weight: bold;display: inline-block;line-height: 1.2em;}#sk-container-id-1 div.sk-label-container {text-align: center;}#sk-container-id-1 div.sk-container {/* jupyter's `normalize.less` sets `[hidden] { display: none; }` but bootstrap.min.css set `[hidden] { display: none !important; }` so we also need the `!important` here to be able to override the default hidden behavior on the sphinx rendered scikit-learn.org. See: https://github.com/scikit-learn/scikit-learn/issues/21755 */display: inline-block !important;position: relative;}#sk-container-id-1 div.sk-text-repr-fallback {display: none;}</style><div id=\"sk-container-id-1\" class=\"sk-top-container\"><div class=\"sk-text-repr-fallback\"><pre>LogisticRegression()</pre><b>In a Jupyter environment, please rerun this cell to show the HTML representation or trust the notebook. <br />On GitHub, the HTML representation is unable to render, please try loading this page with nbviewer.org.</b></div><div class=\"sk-container\" hidden><div class=\"sk-item\"><div class=\"sk-estimator sk-toggleable\"><input class=\"sk-toggleable__control sk-hidden--visually\" id=\"sk-estimator-id-1\" type=\"checkbox\" checked><label for=\"sk-estimator-id-1\" class=\"sk-toggleable__label sk-toggleable__label-arrow\">LogisticRegression</label><div class=\"sk-toggleable__content\"><pre>LogisticRegression()</pre></div></div></div></div></div>"
      ],
      "text/plain": [
       "LogisticRegression()"
      ]
     },
     "execution_count": 109,
     "metadata": {},
     "output_type": "execute_result"
    }
   ],
   "source": [
    "lg = LogisticRegression()\n",
    "lg"
   ]
  },
  {
   "cell_type": "code",
   "execution_count": 110,
   "id": "cfad4efc",
   "metadata": {},
   "outputs": [],
   "source": [
    "model3 = lg.fit(x,y)"
   ]
  },
  {
   "cell_type": "code",
   "execution_count": 112,
   "id": "e8852653",
   "metadata": {},
   "outputs": [
    {
     "data": {
      "text/plain": [
       "array([0, 1, 0, ..., 1, 1, 1], dtype=int64)"
      ]
     },
     "execution_count": 112,
     "metadata": {},
     "output_type": "execute_result"
    }
   ],
   "source": [
    "ypred3 = model3.predict(x_test)\n",
    "ypred3"
   ]
  },
  {
   "cell_type": "code",
   "execution_count": 113,
   "id": "781ada16",
   "metadata": {},
   "outputs": [
    {
     "data": {
      "text/html": [
       "<div>\n",
       "<style scoped>\n",
       "    .dataframe tbody tr th:only-of-type {\n",
       "        vertical-align: middle;\n",
       "    }\n",
       "\n",
       "    .dataframe tbody tr th {\n",
       "        vertical-align: top;\n",
       "    }\n",
       "\n",
       "    .dataframe thead th {\n",
       "        text-align: right;\n",
       "    }\n",
       "</style>\n",
       "<table border=\"1\" class=\"dataframe\">\n",
       "  <thead>\n",
       "    <tr style=\"text-align: right;\">\n",
       "      <th></th>\n",
       "      <th>Accuracy</th>\n",
       "      <th>Precision</th>\n",
       "      <th>Recall</th>\n",
       "      <th>F1 score</th>\n",
       "    </tr>\n",
       "    <tr>\n",
       "      <th>Model name</th>\n",
       "      <th></th>\n",
       "      <th></th>\n",
       "      <th></th>\n",
       "      <th></th>\n",
       "    </tr>\n",
       "  </thead>\n",
       "  <tbody>\n",
       "    <tr>\n",
       "      <th>Logit without constant</th>\n",
       "      <td>0.634385</td>\n",
       "      <td>0.475468</td>\n",
       "      <td>0.888333</td>\n",
       "      <td>0.619407</td>\n",
       "    </tr>\n",
       "    <tr>\n",
       "      <th>Logit with constant</th>\n",
       "      <td>0.614011</td>\n",
       "      <td>0.461731</td>\n",
       "      <td>0.920000</td>\n",
       "      <td>0.614871</td>\n",
       "    </tr>\n",
       "    <tr>\n",
       "      <th>Logistic-SKLEARN</th>\n",
       "      <td>0.612057</td>\n",
       "      <td>0.460384</td>\n",
       "      <td>0.920000</td>\n",
       "      <td>0.613674</td>\n",
       "    </tr>\n",
       "  </tbody>\n",
       "</table>\n",
       "</div>"
      ],
      "text/plain": [
       "                        Accuracy  Precision    Recall  F1 score\n",
       "Model name                                                     \n",
       "Logit without constant  0.634385   0.475468  0.888333  0.619407\n",
       "Logit with constant     0.614011   0.461731  0.920000  0.614871\n",
       "Logistic-SKLEARN        0.612057   0.460384  0.920000  0.613674"
      ]
     },
     "execution_count": 113,
     "metadata": {},
     "output_type": "execute_result"
    }
   ],
   "source": [
    "metric('Logistic-SKLEARN',y_test, ypred3)"
   ]
  },
  {
   "cell_type": "code",
   "execution_count": 105,
   "id": "96909120",
   "metadata": {},
   "outputs": [],
   "source": [
    "# Decision Tree Model "
   ]
  },
  {
   "cell_type": "code",
   "execution_count": 114,
   "id": "7d9c1e2a",
   "metadata": {},
   "outputs": [],
   "source": [
    "from sklearn.tree import DecisionTreeClassifier"
   ]
  },
  {
   "cell_type": "code",
   "execution_count": 115,
   "id": "647bc903",
   "metadata": {},
   "outputs": [],
   "source": [
    "dt = DecisionTreeClassifier(random_state=42)"
   ]
  },
  {
   "cell_type": "code",
   "execution_count": 117,
   "id": "5c3daa2a",
   "metadata": {},
   "outputs": [],
   "source": [
    "model4 = dt.fit(x,y)"
   ]
  },
  {
   "cell_type": "code",
   "execution_count": 120,
   "id": "d0dc3b97",
   "metadata": {},
   "outputs": [],
   "source": [
    "ypred4 = model4.predict(x_test)"
   ]
  },
  {
   "cell_type": "code",
   "execution_count": 121,
   "id": "19d3ec3f",
   "metadata": {},
   "outputs": [
    {
     "data": {
      "text/html": [
       "<div>\n",
       "<style scoped>\n",
       "    .dataframe tbody tr th:only-of-type {\n",
       "        vertical-align: middle;\n",
       "    }\n",
       "\n",
       "    .dataframe tbody tr th {\n",
       "        vertical-align: top;\n",
       "    }\n",
       "\n",
       "    .dataframe thead th {\n",
       "        text-align: right;\n",
       "    }\n",
       "</style>\n",
       "<table border=\"1\" class=\"dataframe\">\n",
       "  <thead>\n",
       "    <tr style=\"text-align: right;\">\n",
       "      <th></th>\n",
       "      <th>Accuracy</th>\n",
       "      <th>Precision</th>\n",
       "      <th>Recall</th>\n",
       "      <th>F1 score</th>\n",
       "    </tr>\n",
       "    <tr>\n",
       "      <th>Model name</th>\n",
       "      <th></th>\n",
       "      <th></th>\n",
       "      <th></th>\n",
       "      <th></th>\n",
       "    </tr>\n",
       "  </thead>\n",
       "  <tbody>\n",
       "    <tr>\n",
       "      <th>Logit without constant</th>\n",
       "      <td>0.634385</td>\n",
       "      <td>0.475468</td>\n",
       "      <td>0.888333</td>\n",
       "      <td>0.619407</td>\n",
       "    </tr>\n",
       "    <tr>\n",
       "      <th>Logit with constant</th>\n",
       "      <td>0.614011</td>\n",
       "      <td>0.461731</td>\n",
       "      <td>0.920000</td>\n",
       "      <td>0.614871</td>\n",
       "    </tr>\n",
       "    <tr>\n",
       "      <th>Logistic-SKLEARN</th>\n",
       "      <td>0.612057</td>\n",
       "      <td>0.460384</td>\n",
       "      <td>0.920000</td>\n",
       "      <td>0.613674</td>\n",
       "    </tr>\n",
       "    <tr>\n",
       "      <th>Decision Tree</th>\n",
       "      <td>0.663969</td>\n",
       "      <td>0.498960</td>\n",
       "      <td>0.800000</td>\n",
       "      <td>0.614597</td>\n",
       "    </tr>\n",
       "  </tbody>\n",
       "</table>\n",
       "</div>"
      ],
      "text/plain": [
       "                        Accuracy  Precision    Recall  F1 score\n",
       "Model name                                                     \n",
       "Logit without constant  0.634385   0.475468  0.888333  0.619407\n",
       "Logit with constant     0.614011   0.461731  0.920000  0.614871\n",
       "Logistic-SKLEARN        0.612057   0.460384  0.920000  0.613674\n",
       "Decision Tree           0.663969   0.498960  0.800000  0.614597"
      ]
     },
     "execution_count": 121,
     "metadata": {},
     "output_type": "execute_result"
    }
   ],
   "source": [
    "metric('Decision Tree',y_test, ypred4)"
   ]
  },
  {
   "cell_type": "code",
   "execution_count": 122,
   "id": "985540ea",
   "metadata": {},
   "outputs": [],
   "source": [
    "# Random Forest"
   ]
  },
  {
   "cell_type": "code",
   "execution_count": 123,
   "id": "ca9bf237",
   "metadata": {},
   "outputs": [],
   "source": [
    "from sklearn.ensemble import RandomForestClassifier"
   ]
  },
  {
   "cell_type": "code",
   "execution_count": 124,
   "id": "5eaafc89",
   "metadata": {},
   "outputs": [],
   "source": [
    "rf = RandomForestClassifier(random_state=42)"
   ]
  },
  {
   "cell_type": "code",
   "execution_count": 125,
   "id": "d6c40170",
   "metadata": {},
   "outputs": [],
   "source": [
    "model5 = rf.fit(x,y)"
   ]
  },
  {
   "cell_type": "code",
   "execution_count": 126,
   "id": "01d8e707",
   "metadata": {},
   "outputs": [],
   "source": [
    "ypred5 = model5.predict(x_test)"
   ]
  },
  {
   "cell_type": "code",
   "execution_count": 127,
   "id": "d161a8f3",
   "metadata": {},
   "outputs": [
    {
     "data": {
      "text/html": [
       "<div>\n",
       "<style scoped>\n",
       "    .dataframe tbody tr th:only-of-type {\n",
       "        vertical-align: middle;\n",
       "    }\n",
       "\n",
       "    .dataframe tbody tr th {\n",
       "        vertical-align: top;\n",
       "    }\n",
       "\n",
       "    .dataframe thead th {\n",
       "        text-align: right;\n",
       "    }\n",
       "</style>\n",
       "<table border=\"1\" class=\"dataframe\">\n",
       "  <thead>\n",
       "    <tr style=\"text-align: right;\">\n",
       "      <th></th>\n",
       "      <th>Accuracy</th>\n",
       "      <th>Precision</th>\n",
       "      <th>Recall</th>\n",
       "      <th>F1 score</th>\n",
       "    </tr>\n",
       "    <tr>\n",
       "      <th>Model name</th>\n",
       "      <th></th>\n",
       "      <th></th>\n",
       "      <th></th>\n",
       "      <th></th>\n",
       "    </tr>\n",
       "  </thead>\n",
       "  <tbody>\n",
       "    <tr>\n",
       "      <th>Logit without constant</th>\n",
       "      <td>0.634385</td>\n",
       "      <td>0.475468</td>\n",
       "      <td>0.888333</td>\n",
       "      <td>0.619407</td>\n",
       "    </tr>\n",
       "    <tr>\n",
       "      <th>Logit with constant</th>\n",
       "      <td>0.614011</td>\n",
       "      <td>0.461731</td>\n",
       "      <td>0.920000</td>\n",
       "      <td>0.614871</td>\n",
       "    </tr>\n",
       "    <tr>\n",
       "      <th>Logistic-SKLEARN</th>\n",
       "      <td>0.612057</td>\n",
       "      <td>0.460384</td>\n",
       "      <td>0.920000</td>\n",
       "      <td>0.613674</td>\n",
       "    </tr>\n",
       "    <tr>\n",
       "      <th>Decision Tree</th>\n",
       "      <td>0.663969</td>\n",
       "      <td>0.498960</td>\n",
       "      <td>0.800000</td>\n",
       "      <td>0.614597</td>\n",
       "    </tr>\n",
       "    <tr>\n",
       "      <th>Random Forest</th>\n",
       "      <td>0.668992</td>\n",
       "      <td>0.503375</td>\n",
       "      <td>0.870000</td>\n",
       "      <td>0.637752</td>\n",
       "    </tr>\n",
       "  </tbody>\n",
       "</table>\n",
       "</div>"
      ],
      "text/plain": [
       "                        Accuracy  Precision    Recall  F1 score\n",
       "Model name                                                     \n",
       "Logit without constant  0.634385   0.475468  0.888333  0.619407\n",
       "Logit with constant     0.614011   0.461731  0.920000  0.614871\n",
       "Logistic-SKLEARN        0.612057   0.460384  0.920000  0.613674\n",
       "Decision Tree           0.663969   0.498960  0.800000  0.614597\n",
       "Random Forest           0.668992   0.503375  0.870000  0.637752"
      ]
     },
     "execution_count": 127,
     "metadata": {},
     "output_type": "execute_result"
    }
   ],
   "source": [
    "metric('Random Forest',y_test,ypred5)"
   ]
  },
  {
   "cell_type": "code",
   "execution_count": 129,
   "id": "d1797339",
   "metadata": {},
   "outputs": [],
   "source": [
    "# PRE PRUNING - DECISION TREE"
   ]
  },
  {
   "cell_type": "code",
   "execution_count": 130,
   "id": "5def8f20",
   "metadata": {},
   "outputs": [],
   "source": [
    "dt = DecisionTreeClassifier(max_depth=5, min_samples_split=3, random_state=42)"
   ]
  },
  {
   "cell_type": "code",
   "execution_count": 131,
   "id": "75137f3a",
   "metadata": {},
   "outputs": [],
   "source": [
    "model6 = dt.fit(x,y)"
   ]
  },
  {
   "cell_type": "code",
   "execution_count": 132,
   "id": "77b7cfc5",
   "metadata": {},
   "outputs": [],
   "source": [
    "ypred6 = model6.predict(x_test)"
   ]
  },
  {
   "cell_type": "code",
   "execution_count": 133,
   "id": "a12d7a01",
   "metadata": {},
   "outputs": [
    {
     "data": {
      "text/html": [
       "<div>\n",
       "<style scoped>\n",
       "    .dataframe tbody tr th:only-of-type {\n",
       "        vertical-align: middle;\n",
       "    }\n",
       "\n",
       "    .dataframe tbody tr th {\n",
       "        vertical-align: top;\n",
       "    }\n",
       "\n",
       "    .dataframe thead th {\n",
       "        text-align: right;\n",
       "    }\n",
       "</style>\n",
       "<table border=\"1\" class=\"dataframe\">\n",
       "  <thead>\n",
       "    <tr style=\"text-align: right;\">\n",
       "      <th></th>\n",
       "      <th>Accuracy</th>\n",
       "      <th>Precision</th>\n",
       "      <th>Recall</th>\n",
       "      <th>F1 score</th>\n",
       "    </tr>\n",
       "    <tr>\n",
       "      <th>Model name</th>\n",
       "      <th></th>\n",
       "      <th></th>\n",
       "      <th></th>\n",
       "      <th></th>\n",
       "    </tr>\n",
       "  </thead>\n",
       "  <tbody>\n",
       "    <tr>\n",
       "      <th>Logit without constant</th>\n",
       "      <td>0.634385</td>\n",
       "      <td>0.475468</td>\n",
       "      <td>0.888333</td>\n",
       "      <td>0.619407</td>\n",
       "    </tr>\n",
       "    <tr>\n",
       "      <th>Logit with constant</th>\n",
       "      <td>0.614011</td>\n",
       "      <td>0.461731</td>\n",
       "      <td>0.920000</td>\n",
       "      <td>0.614871</td>\n",
       "    </tr>\n",
       "    <tr>\n",
       "      <th>Logistic-SKLEARN</th>\n",
       "      <td>0.612057</td>\n",
       "      <td>0.460384</td>\n",
       "      <td>0.920000</td>\n",
       "      <td>0.613674</td>\n",
       "    </tr>\n",
       "    <tr>\n",
       "      <th>Decision Tree</th>\n",
       "      <td>0.663969</td>\n",
       "      <td>0.498960</td>\n",
       "      <td>0.800000</td>\n",
       "      <td>0.614597</td>\n",
       "    </tr>\n",
       "    <tr>\n",
       "      <th>Random Forest</th>\n",
       "      <td>0.668992</td>\n",
       "      <td>0.503375</td>\n",
       "      <td>0.870000</td>\n",
       "      <td>0.637752</td>\n",
       "    </tr>\n",
       "    <tr>\n",
       "      <th>Decision Tree - Pruning</th>\n",
       "      <td>0.689366</td>\n",
       "      <td>0.524424</td>\n",
       "      <td>0.778333</td>\n",
       "      <td>0.626635</td>\n",
       "    </tr>\n",
       "  </tbody>\n",
       "</table>\n",
       "</div>"
      ],
      "text/plain": [
       "                         Accuracy  Precision    Recall  F1 score\n",
       "Model name                                                      \n",
       "Logit without constant   0.634385   0.475468  0.888333  0.619407\n",
       "Logit with constant      0.614011   0.461731  0.920000  0.614871\n",
       "Logistic-SKLEARN         0.612057   0.460384  0.920000  0.613674\n",
       "Decision Tree            0.663969   0.498960  0.800000  0.614597\n",
       "Random Forest            0.668992   0.503375  0.870000  0.637752\n",
       "Decision Tree - Pruning  0.689366   0.524424  0.778333  0.626635"
      ]
     },
     "execution_count": 133,
     "metadata": {},
     "output_type": "execute_result"
    }
   ],
   "source": [
    "metric('Decision Tree - Pruning', y_test, ypred6)"
   ]
  },
  {
   "cell_type": "code",
   "execution_count": 134,
   "id": "3fba6f48",
   "metadata": {},
   "outputs": [],
   "source": [
    "# Grid Search CV"
   ]
  },
  {
   "cell_type": "code",
   "execution_count": 135,
   "id": "d32148d7",
   "metadata": {},
   "outputs": [],
   "source": [
    "from sklearn.model_selection import GridSearchCV"
   ]
  },
  {
   "cell_type": "code",
   "execution_count": 137,
   "id": "31c1688b",
   "metadata": {},
   "outputs": [],
   "source": [
    "par = {'n_estimators':[50,60],'max_depth':[5,6],'min_samples_split':[2,3]}"
   ]
  },
  {
   "cell_type": "code",
   "execution_count": 138,
   "id": "bbedb11e",
   "metadata": {},
   "outputs": [],
   "source": [
    "grid = GridSearchCV(rf, param_grid=par, cv =2, scoring='f1')"
   ]
  },
  {
   "cell_type": "code",
   "execution_count": 139,
   "id": "291a8130",
   "metadata": {},
   "outputs": [
    {
     "data": {
      "text/html": [
       "<style>#sk-container-id-3 {color: black;background-color: white;}#sk-container-id-3 pre{padding: 0;}#sk-container-id-3 div.sk-toggleable {background-color: white;}#sk-container-id-3 label.sk-toggleable__label {cursor: pointer;display: block;width: 100%;margin-bottom: 0;padding: 0.3em;box-sizing: border-box;text-align: center;}#sk-container-id-3 label.sk-toggleable__label-arrow:before {content: \"▸\";float: left;margin-right: 0.25em;color: #696969;}#sk-container-id-3 label.sk-toggleable__label-arrow:hover:before {color: black;}#sk-container-id-3 div.sk-estimator:hover label.sk-toggleable__label-arrow:before {color: black;}#sk-container-id-3 div.sk-toggleable__content {max-height: 0;max-width: 0;overflow: hidden;text-align: left;background-color: #f0f8ff;}#sk-container-id-3 div.sk-toggleable__content pre {margin: 0.2em;color: black;border-radius: 0.25em;background-color: #f0f8ff;}#sk-container-id-3 input.sk-toggleable__control:checked~div.sk-toggleable__content {max-height: 200px;max-width: 100%;overflow: auto;}#sk-container-id-3 input.sk-toggleable__control:checked~label.sk-toggleable__label-arrow:before {content: \"▾\";}#sk-container-id-3 div.sk-estimator input.sk-toggleable__control:checked~label.sk-toggleable__label {background-color: #d4ebff;}#sk-container-id-3 div.sk-label input.sk-toggleable__control:checked~label.sk-toggleable__label {background-color: #d4ebff;}#sk-container-id-3 input.sk-hidden--visually {border: 0;clip: rect(1px 1px 1px 1px);clip: rect(1px, 1px, 1px, 1px);height: 1px;margin: -1px;overflow: hidden;padding: 0;position: absolute;width: 1px;}#sk-container-id-3 div.sk-estimator {font-family: monospace;background-color: #f0f8ff;border: 1px dotted black;border-radius: 0.25em;box-sizing: border-box;margin-bottom: 0.5em;}#sk-container-id-3 div.sk-estimator:hover {background-color: #d4ebff;}#sk-container-id-3 div.sk-parallel-item::after {content: \"\";width: 100%;border-bottom: 1px solid gray;flex-grow: 1;}#sk-container-id-3 div.sk-label:hover label.sk-toggleable__label {background-color: #d4ebff;}#sk-container-id-3 div.sk-serial::before {content: \"\";position: absolute;border-left: 1px solid gray;box-sizing: border-box;top: 0;bottom: 0;left: 50%;z-index: 0;}#sk-container-id-3 div.sk-serial {display: flex;flex-direction: column;align-items: center;background-color: white;padding-right: 0.2em;padding-left: 0.2em;position: relative;}#sk-container-id-3 div.sk-item {position: relative;z-index: 1;}#sk-container-id-3 div.sk-parallel {display: flex;align-items: stretch;justify-content: center;background-color: white;position: relative;}#sk-container-id-3 div.sk-item::before, #sk-container-id-3 div.sk-parallel-item::before {content: \"\";position: absolute;border-left: 1px solid gray;box-sizing: border-box;top: 0;bottom: 0;left: 50%;z-index: -1;}#sk-container-id-3 div.sk-parallel-item {display: flex;flex-direction: column;z-index: 1;position: relative;background-color: white;}#sk-container-id-3 div.sk-parallel-item:first-child::after {align-self: flex-end;width: 50%;}#sk-container-id-3 div.sk-parallel-item:last-child::after {align-self: flex-start;width: 50%;}#sk-container-id-3 div.sk-parallel-item:only-child::after {width: 0;}#sk-container-id-3 div.sk-dashed-wrapped {border: 1px dashed gray;margin: 0 0.4em 0.5em 0.4em;box-sizing: border-box;padding-bottom: 0.4em;background-color: white;}#sk-container-id-3 div.sk-label label {font-family: monospace;font-weight: bold;display: inline-block;line-height: 1.2em;}#sk-container-id-3 div.sk-label-container {text-align: center;}#sk-container-id-3 div.sk-container {/* jupyter's `normalize.less` sets `[hidden] { display: none; }` but bootstrap.min.css set `[hidden] { display: none !important; }` so we also need the `!important` here to be able to override the default hidden behavior on the sphinx rendered scikit-learn.org. See: https://github.com/scikit-learn/scikit-learn/issues/21755 */display: inline-block !important;position: relative;}#sk-container-id-3 div.sk-text-repr-fallback {display: none;}</style><div id=\"sk-container-id-3\" class=\"sk-top-container\"><div class=\"sk-text-repr-fallback\"><pre>GridSearchCV(cv=2, estimator=RandomForestClassifier(random_state=42),\n",
       "             param_grid={&#x27;max_depth&#x27;: [5, 6], &#x27;min_samples_split&#x27;: [2, 3],\n",
       "                         &#x27;n_estimators&#x27;: [50, 60]},\n",
       "             scoring=&#x27;f1&#x27;)</pre><b>In a Jupyter environment, please rerun this cell to show the HTML representation or trust the notebook. <br />On GitHub, the HTML representation is unable to render, please try loading this page with nbviewer.org.</b></div><div class=\"sk-container\" hidden><div class=\"sk-item sk-dashed-wrapped\"><div class=\"sk-label-container\"><div class=\"sk-label sk-toggleable\"><input class=\"sk-toggleable__control sk-hidden--visually\" id=\"sk-estimator-id-3\" type=\"checkbox\" ><label for=\"sk-estimator-id-3\" class=\"sk-toggleable__label sk-toggleable__label-arrow\">GridSearchCV</label><div class=\"sk-toggleable__content\"><pre>GridSearchCV(cv=2, estimator=RandomForestClassifier(random_state=42),\n",
       "             param_grid={&#x27;max_depth&#x27;: [5, 6], &#x27;min_samples_split&#x27;: [2, 3],\n",
       "                         &#x27;n_estimators&#x27;: [50, 60]},\n",
       "             scoring=&#x27;f1&#x27;)</pre></div></div></div><div class=\"sk-parallel\"><div class=\"sk-parallel-item\"><div class=\"sk-item\"><div class=\"sk-label-container\"><div class=\"sk-label sk-toggleable\"><input class=\"sk-toggleable__control sk-hidden--visually\" id=\"sk-estimator-id-4\" type=\"checkbox\" ><label for=\"sk-estimator-id-4\" class=\"sk-toggleable__label sk-toggleable__label-arrow\">estimator: RandomForestClassifier</label><div class=\"sk-toggleable__content\"><pre>RandomForestClassifier(random_state=42)</pre></div></div></div><div class=\"sk-serial\"><div class=\"sk-item\"><div class=\"sk-estimator sk-toggleable\"><input class=\"sk-toggleable__control sk-hidden--visually\" id=\"sk-estimator-id-5\" type=\"checkbox\" ><label for=\"sk-estimator-id-5\" class=\"sk-toggleable__label sk-toggleable__label-arrow\">RandomForestClassifier</label><div class=\"sk-toggleable__content\"><pre>RandomForestClassifier(random_state=42)</pre></div></div></div></div></div></div></div></div></div></div>"
      ],
      "text/plain": [
       "GridSearchCV(cv=2, estimator=RandomForestClassifier(random_state=42),\n",
       "             param_grid={'max_depth': [5, 6], 'min_samples_split': [2, 3],\n",
       "                         'n_estimators': [50, 60]},\n",
       "             scoring='f1')"
      ]
     },
     "execution_count": 139,
     "metadata": {},
     "output_type": "execute_result"
    }
   ],
   "source": [
    "grid.fit(x,y)"
   ]
  },
  {
   "cell_type": "code",
   "execution_count": 140,
   "id": "966361ef",
   "metadata": {},
   "outputs": [
    {
     "data": {
      "text/plain": [
       "{'max_depth': 6, 'min_samples_split': 3, 'n_estimators': 60}"
      ]
     },
     "execution_count": 140,
     "metadata": {},
     "output_type": "execute_result"
    }
   ],
   "source": [
    "grid.best_params_"
   ]
  },
  {
   "cell_type": "code",
   "execution_count": 141,
   "id": "1e9cb059",
   "metadata": {},
   "outputs": [],
   "source": [
    "rf = RandomForestClassifier(n_estimators=60,max_depth=6, min_samples_split=3,random_state=42)"
   ]
  },
  {
   "cell_type": "code",
   "execution_count": 142,
   "id": "96f5bac2",
   "metadata": {},
   "outputs": [],
   "source": [
    "model7 = rf.fit(x,y)"
   ]
  },
  {
   "cell_type": "code",
   "execution_count": 143,
   "id": "56d0f4c9",
   "metadata": {},
   "outputs": [],
   "source": [
    "ypred7 = model7.predict(x_test)"
   ]
  },
  {
   "cell_type": "code",
   "execution_count": 144,
   "id": "e69509f5",
   "metadata": {},
   "outputs": [
    {
     "data": {
      "text/html": [
       "<div>\n",
       "<style scoped>\n",
       "    .dataframe tbody tr th:only-of-type {\n",
       "        vertical-align: middle;\n",
       "    }\n",
       "\n",
       "    .dataframe tbody tr th {\n",
       "        vertical-align: top;\n",
       "    }\n",
       "\n",
       "    .dataframe thead th {\n",
       "        text-align: right;\n",
       "    }\n",
       "</style>\n",
       "<table border=\"1\" class=\"dataframe\">\n",
       "  <thead>\n",
       "    <tr style=\"text-align: right;\">\n",
       "      <th></th>\n",
       "      <th>Accuracy</th>\n",
       "      <th>Precision</th>\n",
       "      <th>Recall</th>\n",
       "      <th>F1 score</th>\n",
       "    </tr>\n",
       "    <tr>\n",
       "      <th>Model name</th>\n",
       "      <th></th>\n",
       "      <th></th>\n",
       "      <th></th>\n",
       "      <th></th>\n",
       "    </tr>\n",
       "  </thead>\n",
       "  <tbody>\n",
       "    <tr>\n",
       "      <th>Logit without constant</th>\n",
       "      <td>0.634385</td>\n",
       "      <td>0.475468</td>\n",
       "      <td>0.888333</td>\n",
       "      <td>0.619407</td>\n",
       "    </tr>\n",
       "    <tr>\n",
       "      <th>Logit with constant</th>\n",
       "      <td>0.614011</td>\n",
       "      <td>0.461731</td>\n",
       "      <td>0.920000</td>\n",
       "      <td>0.614871</td>\n",
       "    </tr>\n",
       "    <tr>\n",
       "      <th>Logistic-SKLEARN</th>\n",
       "      <td>0.612057</td>\n",
       "      <td>0.460384</td>\n",
       "      <td>0.920000</td>\n",
       "      <td>0.613674</td>\n",
       "    </tr>\n",
       "    <tr>\n",
       "      <th>Decision Tree</th>\n",
       "      <td>0.663969</td>\n",
       "      <td>0.498960</td>\n",
       "      <td>0.800000</td>\n",
       "      <td>0.614597</td>\n",
       "    </tr>\n",
       "    <tr>\n",
       "      <th>Random Forest</th>\n",
       "      <td>0.668992</td>\n",
       "      <td>0.503375</td>\n",
       "      <td>0.870000</td>\n",
       "      <td>0.637752</td>\n",
       "    </tr>\n",
       "    <tr>\n",
       "      <th>Decision Tree - Pruning</th>\n",
       "      <td>0.689366</td>\n",
       "      <td>0.524424</td>\n",
       "      <td>0.778333</td>\n",
       "      <td>0.626635</td>\n",
       "    </tr>\n",
       "    <tr>\n",
       "      <th>Tuned Random Forest</th>\n",
       "      <td>0.668992</td>\n",
       "      <td>0.503469</td>\n",
       "      <td>0.846667</td>\n",
       "      <td>0.631448</td>\n",
       "    </tr>\n",
       "  </tbody>\n",
       "</table>\n",
       "</div>"
      ],
      "text/plain": [
       "                         Accuracy  Precision    Recall  F1 score\n",
       "Model name                                                      \n",
       "Logit without constant   0.634385   0.475468  0.888333  0.619407\n",
       "Logit with constant      0.614011   0.461731  0.920000  0.614871\n",
       "Logistic-SKLEARN         0.612057   0.460384  0.920000  0.613674\n",
       "Decision Tree            0.663969   0.498960  0.800000  0.614597\n",
       "Random Forest            0.668992   0.503375  0.870000  0.637752\n",
       "Decision Tree - Pruning  0.689366   0.524424  0.778333  0.626635\n",
       "Tuned Random Forest      0.668992   0.503469  0.846667  0.631448"
      ]
     },
     "execution_count": 144,
     "metadata": {},
     "output_type": "execute_result"
    }
   ],
   "source": [
    "metric('Tuned Random Forest',y_test,ypred7)"
   ]
  },
  {
   "cell_type": "code",
   "execution_count": null,
   "id": "e9961382",
   "metadata": {},
   "outputs": [],
   "source": []
  }
 ],
 "metadata": {
  "kernelspec": {
   "display_name": "Python 3 (ipykernel)",
   "language": "python",
   "name": "python3"
  },
  "language_info": {
   "codemirror_mode": {
    "name": "ipython",
    "version": 3
   },
   "file_extension": ".py",
   "mimetype": "text/x-python",
   "name": "python",
   "nbconvert_exporter": "python",
   "pygments_lexer": "ipython3",
   "version": "3.11.3"
  }
 },
 "nbformat": 4,
 "nbformat_minor": 5
}
